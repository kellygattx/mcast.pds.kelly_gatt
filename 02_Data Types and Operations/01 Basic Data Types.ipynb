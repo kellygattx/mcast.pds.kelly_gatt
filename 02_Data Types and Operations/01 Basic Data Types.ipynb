{
 "cells": [
  {
   "cell_type": "markdown",
   "metadata": {},
   "source": [
    "### Data Types\n",
    "\n",
    "Python has various data types, and if no type is given, Python tries to identify it from the given value."
   ]
  },
  {
   "cell_type": "code",
   "execution_count": 12,
   "metadata": {},
   "outputs": [
    {
     "name": "stdout",
     "output_type": "stream",
     "text": [
      "<class 'str'>\n"
     ]
    }
   ],
   "source": [
    "product = 'Mars'\n",
    "print (type(product))"
   ]
  },
  {
   "cell_type": "markdown",
   "metadata": {},
   "source": [
    "If we want to confirm programmaticaly the type"
   ]
  },
  {
   "cell_type": "code",
   "execution_count": 13,
   "metadata": {},
   "outputs": [
    {
     "data": {
      "text/plain": [
       "True"
      ]
     },
     "execution_count": 13,
     "metadata": {},
     "output_type": "execute_result"
    }
   ],
   "source": [
    "type(product) == str"
   ]
  },
  {
   "cell_type": "code",
   "execution_count": 14,
   "metadata": {},
   "outputs": [
    {
     "data": {
      "text/plain": [
       "False"
      ]
     },
     "execution_count": 14,
     "metadata": {},
     "output_type": "execute_result"
    }
   ],
   "source": [
    "type(product) == int"
   ]
  },
  {
   "cell_type": "markdown",
   "metadata": {},
   "source": [
    "These are three other types of data-types in Python"
   ]
  },
  {
   "cell_type": "code",
   "execution_count": 15,
   "metadata": {},
   "outputs": [
    {
     "name": "stdout",
     "output_type": "stream",
     "text": [
      "<class 'int'>\n",
      "<class 'float'>\n",
      "<class 'bool'>\n"
     ]
    }
   ],
   "source": [
    "quantity = 10\n",
    "price = 1.2\n",
    "isDicounted = False\n",
    "\n",
    "print(type(quantity))\n",
    "print(type(price))\n",
    "print(type(isDicounted))"
   ]
  },
  {
   "cell_type": "code",
   "execution_count": 16,
   "metadata": {},
   "outputs": [
    {
     "name": "stdout",
     "output_type": "stream",
     "text": [
      "<class 'list'>\n",
      "<class 'set'>\n"
     ]
    }
   ],
   "source": [
    "names = ['Alex', 'Peter']\n",
    "nums = {1,5,7}\n",
    "\n",
    "print (type(names))\n",
    "print (type(nums))"
   ]
  },
  {
   "cell_type": "code",
   "execution_count": 17,
   "metadata": {},
   "outputs": [
    {
     "name": "stdout",
     "output_type": "stream",
     "text": [
      "The datatype for quantity is <class 'int'>\n"
     ]
    }
   ],
   "source": [
    "quantity = 10\n",
    "price = 1.2\n",
    "isDicounted = False\n",
    "print (f'The datatype for quantity is {type(quantity)}')"
   ]
  },
  {
   "cell_type": "code",
   "execution_count": 18,
   "metadata": {},
   "outputs": [
    {
     "name": "stdout",
     "output_type": "stream",
     "text": [
      "The value for quatity is 10 and its datatype is <class 'int'>\n"
     ]
    }
   ],
   "source": [
    "quantity = 10\n",
    "print (f'The value for quatity is {quantity} and its datatype is {type(quantity)}')"
   ]
  },
  {
   "cell_type": "markdown",
   "metadata": {},
   "source": [
    "Comparison  Operators"
   ]
  },
  {
   "cell_type": "code",
   "execution_count": 19,
   "metadata": {},
   "outputs": [
    {
     "name": "stdout",
     "output_type": "stream",
     "text": [
      "True\n",
      "False\n",
      "True\n",
      "False\n",
      "False\n",
      "True\n"
     ]
    }
   ],
   "source": [
    "a = 19\n",
    "b = 10\n",
    "\n",
    "print (a > b) #greater\n",
    "print (a < b) #less\n",
    "print (a >= b) #greater or equal\n",
    "print (a <= b) #less or equal\n",
    "print (a == b) #equal to\n",
    "print (a != b) #not equal"
   ]
  },
  {
   "cell_type": "markdown",
   "metadata": {},
   "source": [
    "We can combine comparisons use 'and', 'or' and inverse using 'not'"
   ]
  },
  {
   "cell_type": "code",
   "execution_count": 20,
   "metadata": {},
   "outputs": [
    {
     "name": "stdout",
     "output_type": "stream",
     "text": [
      "True\n",
      "False\n",
      "True\n"
     ]
    }
   ],
   "source": [
    "a = 10\n",
    "b = 6\n",
    "c = 1\n",
    "\n",
    "print (a>b and c<5)\n",
    "print (a>b and c>5)\n",
    "print (not (a>b and c>5))"
   ]
  },
  {
   "cell_type": "markdown",
   "metadata": {},
   "source": [
    "Arithmetic Operations"
   ]
  },
  {
   "cell_type": "code",
   "execution_count": null,
   "metadata": {},
   "outputs": [
    {
     "name": "stdout",
     "output_type": "stream",
     "text": [
      "14\n",
      "6\n",
      "40\n",
      "2.5\n",
      "1000\n"
     ]
    }
   ],
   "source": [
    "a = 10\n",
    "b = 4\n",
    "\n",
    "#Addition\n",
    "print (a+b)\n",
    "\n",
    "#Subtraction\n",
    "print (a-b)\n",
    "\n",
    "#Product\n",
    "print (a*b)\n",
    "\n",
    "#Division\n",
    "print (a/b)\n",
    "\n",
    "#Modulus (remainder)\n",
    "print (a%b)\n",
    "\n",
    "# Division but get whole number only\n",
    "print (a // b)\n",
    " \n",
    "# A to the power of 3\n",
    "print (a**3)\n",
    " "
   ]
  },
  {
   "cell_type": "code",
   "execution_count": 25,
   "metadata": {},
   "outputs": [],
   "source": [
    "my_total = 234\n",
    "\n",
    "#my_total = my_total +5\n",
    "my_total +=5"
   ]
  },
  {
   "cell_type": "code",
   "execution_count": 27,
   "metadata": {},
   "outputs": [
    {
     "name": "stdout",
     "output_type": "stream",
     "text": [
      "Peter Smith\n"
     ]
    }
   ],
   "source": [
    "name = 'Peter'\n",
    "surname = 'Smith'\\\n",
    "\n",
    "print (name+ ' '+ surname)"
   ]
  },
  {
   "cell_type": "code",
   "execution_count": 28,
   "metadata": {},
   "outputs": [
    {
     "name": "stdout",
     "output_type": "stream",
     "text": [
      "PeterPeterPeterPeterPeter\n"
     ]
    }
   ],
   "source": [
    "print (name*5)"
   ]
  },
  {
   "cell_type": "code",
   "execution_count": 32,
   "metadata": {},
   "outputs": [
    {
     "name": "stdout",
     "output_type": "stream",
     "text": [
      "Corn Flakes 4.45\n"
     ]
    }
   ],
   "source": [
    "product = str ('Corn Flakes')\n",
    "price = float (4.45)\n",
    "\n",
    "result = product + ' ' + str(price)\n",
    "print(result)"
   ]
  },
  {
   "cell_type": "markdown",
   "metadata": {},
   "source": [
    "### Strings in more Depth\n",
    "\n",
    "There are various functions that allow us to perform string operations, and strings are stored in a list hence we can use it as such."
   ]
  },
  {
   "cell_type": "code",
   "execution_count": 33,
   "metadata": {},
   "outputs": [
    {
     "name": "stdout",
     "output_type": "stream",
     "text": [
      "C\n"
     ]
    }
   ],
   "source": [
    "product = 'Corn Flakes'\n",
    "\n",
    "print(product[0])"
   ]
  },
  {
   "cell_type": "code",
   "execution_count": 38,
   "metadata": {},
   "outputs": [
    {
     "name": "stdout",
     "output_type": "stream",
     "text": [
      "r\n",
      "s\n",
      "Cor\n"
     ]
    }
   ],
   "source": [
    "product = 'Corn Flakes'\n",
    "\n",
    "# Third letter\n",
    "print(product[2])\n",
    " \n",
    "# Last Letter\n",
    "print (product[-1])\n",
    " \n",
    "# First 3 letters\n",
    "print (product[0:3])"
   ]
  },
  {
   "cell_type": "code",
   "execution_count": 55,
   "metadata": {},
   "outputs": [
    {
     "name": "stdout",
     "output_type": "stream",
     "text": [
      "False\n",
      "False\n",
      "False\n",
      "COCO POPS JUNGLE MIX\n",
      "False\n",
      "True\n",
      "Coco Pops Jungle Party\n",
      "Coco Pops Jungle Mix\n",
      "10\n"
     ]
    }
   ],
   "source": [
    "product = 'Coco Pops Jungle Mix'\n",
    "\n",
    "#check if string contains only alphabet\n",
    "print (str(product.isalpha()))\n",
    "\n",
    "#check if string contains characters/digits and is not empty\n",
    "print (str(product.isalnum()))\n",
    "\n",
    "#check if string contains only digits\n",
    "print (str(product.isdigit()))\n",
    "\n",
    "#check the case of string to uppercase\n",
    "print (str(product.upper()))\n",
    "\n",
    "#check if string starts with Corn\n",
    "print (str(product.startswith(\"Corn\")))\n",
    "\n",
    "#check if string ends with Mix\n",
    "print (str(product.endswith('Mix')))\n",
    "\n",
    "#replace the word Mix with Party\n",
    "print (str(product.replace(\"Mix\", \"Party\")))\n",
    "\n",
    "#remove whitespaces\n",
    "print (str(product.strip()))\n",
    "\n",
    "#find the word Jungle\n",
    "print (str(product.find('Jungle')))"
   ]
  },
  {
   "cell_type": "code",
   "execution_count": 56,
   "metadata": {},
   "outputs": [
    {
     "data": {
      "text/plain": [
       "['Coco', 'Pops', 'Jungle', 'Mix']"
      ]
     },
     "execution_count": 56,
     "metadata": {},
     "output_type": "execute_result"
    }
   ],
   "source": [
    "product.split (' ')"
   ]
  },
  {
   "cell_type": "code",
   "execution_count": 57,
   "metadata": {},
   "outputs": [
    {
     "data": {
      "text/plain": [
       "'COCO'"
      ]
     },
     "execution_count": 57,
     "metadata": {},
     "output_type": "execute_result"
    }
   ],
   "source": [
    "#display the first word of the product\n",
    "product.split (\" \")[0]\n",
    "\n",
    "#display the first word of the product and change it to uppercase\n",
    "product.split(' ')[0].upper()"
   ]
  },
  {
   "cell_type": "code",
   "execution_count": 62,
   "metadata": {},
   "outputs": [
    {
     "name": "stdout",
     "output_type": "stream",
     "text": [
      "True\n",
      "True\n"
     ]
    }
   ],
   "source": [
    "#is the second word Pops?\n",
    "print(product.split(' ')[1]=='Pops')\n",
    "\n",
    "#does the last word have only alphabet in it?\n",
    "print(product.split(' ')[-1].isalpha())"
   ]
  },
  {
   "cell_type": "code",
   "execution_count": 63,
   "metadata": {},
   "outputs": [],
   "source": [
    "x = input('What is your name?')"
   ]
  },
  {
   "cell_type": "code",
   "execution_count": 64,
   "metadata": {},
   "outputs": [
    {
     "data": {
      "text/plain": [
       "'Kelly'"
      ]
     },
     "execution_count": 64,
     "metadata": {},
     "output_type": "execute_result"
    }
   ],
   "source": [
    "x"
   ]
  },
  {
   "cell_type": "code",
   "execution_count": null,
   "metadata": {},
   "outputs": [],
   "source": [
    "#ask the user to input a sentence; then display the total number\n",
    "#of characters (including spaces), the total number of characters\n",
    "#without spaces, and the total number of words, and the average\n",
    "#word length\n"
   ]
  },
  {
   "cell_type": "code",
   "execution_count": 68,
   "metadata": {},
   "outputs": [
    {
     "name": "stdout",
     "output_type": "stream",
     "text": [
      "hello i am kelly\n",
      "Total Chars: 16\n",
      "Total Chars (No Spaces): 13\n",
      "Total Words: 4\n",
      "Average Word Length: 3\n"
     ]
    }
   ],
   "source": [
    "sentence =  input('Enter a sentence')\n",
    "\n",
    "total_chars = len(sentence)\n",
    "total_chars_no_spaces = len(sentence.replace(' ', ''))\n",
    "total_words = len(sentence.split(' '))\n",
    "avg_word_length = round(total_chars_no_spaces / total_words)\n",
    "\n",
    "print (sentence)\n",
    "print (f'Total Chars: {total_chars}')\n",
    "print (f'Total Chars (No Spaces): {total_chars_no_spaces}')\n",
    "print (f'Total Words: {total_words}')\n",
    "print (f'Average Word Length: {avg_word_length}')"
   ]
  }
 ],
 "metadata": {
  "kernelspec": {
   "display_name": "venv",
   "language": "python",
   "name": "python3"
  },
  "language_info": {
   "codemirror_mode": {
    "name": "ipython",
    "version": 3
   },
   "file_extension": ".py",
   "mimetype": "text/x-python",
   "name": "python",
   "nbconvert_exporter": "python",
   "pygments_lexer": "ipython3",
   "version": "3.13.2"
  }
 },
 "nbformat": 4,
 "nbformat_minor": 2
}
