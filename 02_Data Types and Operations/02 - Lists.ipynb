{
 "cells": [
  {
   "cell_type": "markdown",
   "metadata": {},
   "source": [
    "### Lists\n",
    "\n",
    "A list is a collection of items which can be of any type. Characteristics:\n",
    "- **Ordered**: A list is ordered and you can change the order.\n",
    "- **Mutable**: You can modify (change,add,remove) elements in the list after it's created.\n",
    "- **Various Data Types**: A list can contain a mix of data types.\n",
    "- **Dynamic Size**: It can grow or shrink depending on content.\n",
    "- **Supports Indexing**: Items can be accessed using an index."
   ]
  },
  {
   "cell_type": "markdown",
   "metadata": {},
   "source": [
    "### Creating Lists\n",
    "\n"
   ]
  },
  {
   "cell_type": "code",
   "execution_count": 7,
   "metadata": {},
   "outputs": [
    {
     "name": "stdout",
     "output_type": "stream",
     "text": [
      "['Python', 'SQL']\n"
     ]
    }
   ],
   "source": [
    "programming_languages = [\"Python\", \"SQL\"]\n",
    "print(programming_languages)"
   ]
  },
  {
   "cell_type": "code",
   "execution_count": 8,
   "metadata": {},
   "outputs": [
    {
     "name": "stdout",
     "output_type": "stream",
     "text": [
      "<class 'list'>\n"
     ]
    }
   ],
   "source": [
    "print (type(programming_languages))"
   ]
  },
  {
   "cell_type": "code",
   "execution_count": 5,
   "metadata": {},
   "outputs": [
    {
     "name": "stdout",
     "output_type": "stream",
     "text": [
      "[76, 23]\n"
     ]
    }
   ],
   "source": [
    "my_marks = [76,23]\n",
    "print(my_marks)"
   ]
  },
  {
   "cell_type": "code",
   "execution_count": 1,
   "metadata": {},
   "outputs": [
    {
     "name": "stdout",
     "output_type": "stream",
     "text": [
      "['Python', 76, 'SQL', 23]\n"
     ]
    }
   ],
   "source": [
    "combined = [\"Python\", 76, \"SQL\", 23]\n",
    "print(combined)"
   ]
  },
  {
   "cell_type": "markdown",
   "metadata": {},
   "source": [
    "### Selecting from a List"
   ]
  },
  {
   "cell_type": "code",
   "execution_count": 3,
   "metadata": {},
   "outputs": [
    {
     "name": "stdout",
     "output_type": "stream",
     "text": [
      "76\n",
      "23\n"
     ]
    }
   ],
   "source": [
    "#display second item\n",
    "print(combined[1])\n",
    "\n",
    "#display last item\n",
    "print(combined[-1])"
   ]
  },
  {
   "cell_type": "code",
   "execution_count": 4,
   "metadata": {},
   "outputs": [
    {
     "name": "stdout",
     "output_type": "stream",
     "text": [
      "SQL\n"
     ]
    }
   ],
   "source": [
    "my_list = [1,2,[\"Python\", \"SQL\"], 3]\n",
    "\n",
    "#print SQL\n",
    "print (my_list[2][-1])"
   ]
  },
  {
   "cell_type": "code",
   "execution_count": 16,
   "metadata": {},
   "outputs": [
    {
     "name": "stdout",
     "output_type": "stream",
     "text": [
      "['orange', 'green', 'blue']\n"
     ]
    }
   ],
   "source": [
    "# check if first element is red, if it is change it to orange, print modified list\n",
    "colors = ['red', 'green', 'blue']\n",
    " \n",
    "if colors [0] == 'red':\n",
    "        colors[0] = 'orange'\n",
    "print (colors)"
   ]
  },
  {
   "cell_type": "code",
   "execution_count": 17,
   "metadata": {},
   "outputs": [
    {
     "name": "stdout",
     "output_type": "stream",
     "text": [
      "First is Larger\n"
     ]
    }
   ],
   "source": [
    "# compare first element with last eleemnt, if it's bigger print First is larger, else if it's greater\n",
    "# Last is Larger, otherwise Equal\n",
    "numbers = [4, 8, 2]\n",
    "\n",
    "if numbers[0] > numbers[-1]:\n",
    "        print ('First is Larger')\n",
    "elif numbers [0] < numbers [-1]:\n",
    "        print('Last is Larger')\n",
    "else:\n",
    "        print('Equal')"
   ]
  },
  {
   "cell_type": "markdown",
   "metadata": {},
   "source": [
    "### Size of a List"
   ]
  },
  {
   "cell_type": "code",
   "execution_count": 18,
   "metadata": {},
   "outputs": [
    {
     "name": "stdout",
     "output_type": "stream",
     "text": [
      "0\n",
      "4\n"
     ]
    }
   ],
   "source": [
    "my_list = []\n",
    "print (len(my_list))\n",
    "\n",
    "my_list = [1,2, [\"Python\", \"SQL\"], 3]\n",
    "print (len(my_list))"
   ]
  },
  {
   "cell_type": "markdown",
   "metadata": {},
   "source": [
    "### Adding Items to a List"
   ]
  },
  {
   "cell_type": "code",
   "execution_count": 21,
   "metadata": {},
   "outputs": [
    {
     "name": "stdout",
     "output_type": "stream",
     "text": [
      "Empty List:  []\n",
      "After adding item:  ['Python']\n",
      "After adding more items:  ['Python', 'JAVA', 'SQL']\n",
      "After adding a list:  ['Python', 'JAVA', 'SQL', [10, 20, 30]]\n"
     ]
    }
   ],
   "source": [
    "my_list = []\n",
    "print ('Empty List: ', my_list)\n",
    "\n",
    "#add item\n",
    "my_list.append(\"Python\")\n",
    "print (\"After adding item: \", my_list)\n",
    "\n",
    "#add two more items\n",
    "my_list.append(\"JAVA\")\n",
    "my_list.append(\"SQL\")\n",
    "print (\"After adding more items: \", my_list)\n",
    "\n",
    "#adding a list to a list\n",
    "my_list.append([10,20,30])\n",
    "print (\"After adding a list: \",my_list)"
   ]
  },
  {
   "cell_type": "code",
   "execution_count": 22,
   "metadata": {},
   "outputs": [
    {
     "name": "stdout",
     "output_type": "stream",
     "text": [
      "['Python', 'JavaScript', 'JAVA', 'SQL', [10, 20, 30]]\n"
     ]
    }
   ],
   "source": [
    "# add Javascript after Python\n",
    "my_list.insert (1, 'JavaScript')\n",
    "print(my_list)"
   ]
  },
  {
   "cell_type": "markdown",
   "metadata": {},
   "source": [
    "### Removing Items from a List"
   ]
  },
  {
   "cell_type": "code",
   "execution_count": 26,
   "metadata": {},
   "outputs": [
    {
     "name": "stdout",
     "output_type": "stream",
     "text": [
      "['SQL', 'Python']\n",
      "['SQL', 'JAVA']\n"
     ]
    }
   ],
   "source": [
    "my_list = ['SQL', 'Python', 'JAVA']\n",
    "\n",
    "#remove 3rd item using index\n",
    "my_list.pop(2)\n",
    "print(my_list)\n",
    "\n",
    "my_list = ['SQL', 'Python', 'JAVA']\n",
    "#remove the item Python\n",
    "my_list.remove('Python')\n",
    "print(my_list)"
   ]
  },
  {
   "cell_type": "markdown",
   "metadata": {},
   "source": [
    "### Slicing a List\n",
    "\n",
    "We can use:\n",
    "- `[:index]` Get items from beginning upto specified index\n",
    "- `[:-index]` Get items from beginning upto specified index from the end\n",
    "- `[index:]` Get items from the index until the end\n",
    "- `[index1:index2]` Get items from specified index1 upto index2"
   ]
  },
  {
   "cell_type": "code",
   "execution_count": 28,
   "metadata": {},
   "outputs": [
    {
     "name": "stdout",
     "output_type": "stream",
     "text": [
      "['Python', 'JAVA']\n",
      "['Python', 'JAVA', 'R']\n",
      "['R', 'SQL']\n",
      "['JAVA', 'R']\n"
     ]
    }
   ],
   "source": [
    "my_list = ['Python', 'JAVA', 'R', 'SQL']\n",
    " \n",
    "# get from first to second element\n",
    "print(my_list[:2])\n",
    " \n",
    "# get from first element to element before the last\n",
    "print(my_list[:-1])\n",
    " \n",
    "# get from 3rd element until the end\n",
    "print(my_list[2:])\n",
    " \n",
    "# get from second to third element\n",
    "print(my_list[1:3])\n",
    " "
   ]
  },
  {
   "cell_type": "code",
   "execution_count": 34,
   "metadata": {},
   "outputs": [
    {
     "name": "stdout",
     "output_type": "stream",
     "text": [
      "Size of List: 6\n",
      "First 3 items:  ['bananas', 'apples', 'milk']\n",
      "['bananas', 'apples', 'milk', 'eggs', 'oranges', 'tomatoes']\n"
     ]
    }
   ],
   "source": [
    "shopping_list = [\"apples\", \"bread\", \"milk\"]\n",
    " \n",
    "# add eggs to the end of list\n",
    "shopping_list.append(\"eggs\")\n",
    "\n",
    "# add bananas to the beginning\n",
    "shopping_list.insert(0,'bananas')\n",
    " \n",
    "# add oranges and tomatoes at once\n",
    "shopping_list.extend(['oranges','tomatoes'])\n",
    " \n",
    "# remove bread\n",
    "shopping_list.remove('bread')\n",
    " \n",
    "# print the size of the list\n",
    "print('Size of List:', len(shopping_list))\n",
    " \n",
    "# print the first 3 items\n",
    "print ('First 3 items: ', shopping_list[:3])\n",
    "\n",
    "print (shopping_list)\n",
    " "
   ]
  },
  {
   "cell_type": "markdown",
   "metadata": {},
   "source": [
    "### List Iteration"
   ]
  },
  {
   "cell_type": "code",
   "execution_count": 36,
   "metadata": {},
   "outputs": [
    {
     "name": "stdout",
     "output_type": "stream",
     "text": [
      "Python is 6 characters long.\n",
      "SQL is 3 characters long.\n",
      "Java is 4 characters long.\n"
     ]
    }
   ],
   "source": [
    "my_list = ['Python', 'SQL', 'Java']\n",
    "\n",
    "for item in my_list:\n",
    "    print(f'{item} is {len(item)} characters long.')"
   ]
  },
  {
   "cell_type": "code",
   "execution_count": 39,
   "metadata": {},
   "outputs": [
    {
     "name": "stdout",
     "output_type": "stream",
     "text": [
      "Python result is 90\n",
      "SQL result is 10\n",
      "Java result is 60\n"
     ]
    }
   ],
   "source": [
    "my_list = ['Python','SQL','Java']\n",
    "my_marks = [90,10,60]\n",
    "\n",
    "for index, item in enumerate(my_list):\n",
    "    print(f'{item} result is {my_marks[index]}')"
   ]
  },
  {
   "cell_type": "markdown",
   "metadata": {},
   "source": [
    "### List Comprehension\n",
    "\n",
    "Creates a new list from other iterables \n",
    "\n",
    "new_list = [expression(element) for element in list condition]"
   ]
  },
  {
   "cell_type": "code",
   "execution_count": 41,
   "metadata": {},
   "outputs": [
    {
     "name": "stdout",
     "output_type": "stream",
     "text": [
      "[1, 2, 3, 4, 5, 6, 7, 8, 9, 10]\n"
     ]
    }
   ],
   "source": [
    "my_list = [1, 2, 3, 4, 5, 6, 7, 8, 9, 10]\n",
    "\n",
    "# this will simply copy the list since it does not have any expression \n",
    "# or condition\n",
    "new_list = [x for x in my_list]\n",
    "print(new_list)"
   ]
  },
  {
   "cell_type": "code",
   "execution_count": 42,
   "metadata": {},
   "outputs": [
    {
     "name": "stdout",
     "output_type": "stream",
     "text": [
      "[1, 4, 9, 16, 25, 36, 49, 64, 81, 100]\n"
     ]
    }
   ],
   "source": [
    "# create a new list with the squared values\n",
    "new_list = [x*x for x in my_list]\n",
    "print (new_list)"
   ]
  },
  {
   "cell_type": "code",
   "execution_count": 44,
   "metadata": {},
   "outputs": [
    {
     "name": "stdout",
     "output_type": "stream",
     "text": [
      "[36, 49, 64, 81, 100]\n"
     ]
    }
   ],
   "source": [
    "#modify previous code so that only number >5 are processed\n",
    "new_list = [x*x for x in my_list if x>5]\n",
    "print (new_list)"
   ]
  },
  {
   "cell_type": "code",
   "execution_count": 45,
   "metadata": {},
   "outputs": [
    {
     "name": "stdout",
     "output_type": "stream",
     "text": [
      "[8, 64, 216, 512, 1000]\n"
     ]
    }
   ],
   "source": [
    "#create a new list with the cubed values for even numbers only\n",
    "new_list = [x**3 for x in my_list if x%2==0]\n",
    "print(new_list)"
   ]
  },
  {
   "cell_type": "markdown",
   "metadata": {},
   "source": [
    "### Sorting\n",
    "\n",
    "Lists can be sorted using `sort` and the list order will change. If you want a backup of the list you can copy it using `copy` or `list_copy=list[:]`."
   ]
  },
  {
   "cell_type": "code",
   "execution_count": 1,
   "metadata": {},
   "outputs": [
    {
     "name": "stdout",
     "output_type": "stream",
     "text": [
      "['JAVA', 'Python', 'R']\n"
     ]
    }
   ],
   "source": [
    "my_list = ['Python', 'JAVA', 'R']\n",
    "my_list.sort()\n",
    "print(my_list)"
   ]
  },
  {
   "cell_type": "code",
   "execution_count": 2,
   "metadata": {},
   "outputs": [
    {
     "ename": "TypeError",
     "evalue": "'<' not supported between instances of 'int' and 'str'",
     "output_type": "error",
     "traceback": [
      "\u001b[1;31m---------------------------------------------------------------------------\u001b[0m",
      "\u001b[1;31mTypeError\u001b[0m                                 Traceback (most recent call last)",
      "Cell \u001b[1;32mIn[2], line 2\u001b[0m\n\u001b[0;32m      1\u001b[0m my_list \u001b[38;5;241m=\u001b[39m [\u001b[38;5;124m'\u001b[39m\u001b[38;5;124mPython\u001b[39m\u001b[38;5;124m'\u001b[39m, \u001b[38;5;124m'\u001b[39m\u001b[38;5;124mJAVA\u001b[39m\u001b[38;5;124m'\u001b[39m, \u001b[38;5;124m'\u001b[39m\u001b[38;5;124mR\u001b[39m\u001b[38;5;124m'\u001b[39m, \u001b[38;5;241m90\u001b[39m]\n\u001b[1;32m----> 2\u001b[0m \u001b[43mmy_list\u001b[49m\u001b[38;5;241;43m.\u001b[39;49m\u001b[43msort\u001b[49m\u001b[43m(\u001b[49m\u001b[43m)\u001b[49m\n\u001b[0;32m      3\u001b[0m \u001b[38;5;66;03m# this will not work due to mixed data types\u001b[39;00m\n",
      "\u001b[1;31mTypeError\u001b[0m: '<' not supported between instances of 'int' and 'str'"
     ]
    }
   ],
   "source": [
    "my_list = ['Python', 'JAVA', 'R', 90]\n",
    "my_list.sort()\n",
    "# this will not work due to mixed data types"
   ]
  },
  {
   "cell_type": "code",
   "execution_count": 3,
   "metadata": {},
   "outputs": [
    {
     "name": "stdout",
     "output_type": "stream",
     "text": [
      "[90, 'JAVA', 'Python', 'R']\n"
     ]
    }
   ],
   "source": [
    "my_list = ['Python', 'JAVA', 'R', 90]\n",
    "my_list.sort(key=str)\n",
    "print(my_list)"
   ]
  },
  {
   "cell_type": "code",
   "execution_count": 47,
   "metadata": {},
   "outputs": [
    {
     "name": "stdout",
     "output_type": "stream",
     "text": [
      "[25, 27, 30]\n"
     ]
    }
   ],
   "source": [
    "# Sales Data recorded over two days\n",
    "sales_monday = [15, 25, 18, 30, 12]\n",
    "sales_tuesday = [20, 22, 17, 25, 10]\n",
    " \n",
    "# apply a discount to sales_monday if the sale is more than 20 deduct 5\n",
    "processed_monday = [sale-5 if sale>20 else sale for sale in sales_monday]\n",
    "\n",
    "# combine the two days into all_sales\n",
    "all_sales = sales_monday.copy()\n",
    "all_sales.extend(sales_tuesday)\n",
    "\n",
    "# remove sales that are 10\n",
    "all_sales.remove(10)\n",
    " \n",
    "# add another sale (27)\n",
    "all_sales.append(27)\n",
    " \n",
    "# sort the sales in ascending order\n",
    "all_sales.sort()\n",
    " \n",
    "# display the 3 highest sales\n",
    "print(all_sales [-3:])\n",
    " "
   ]
  }
 ],
 "metadata": {
  "kernelspec": {
   "display_name": "venv",
   "language": "python",
   "name": "python3"
  },
  "language_info": {
   "codemirror_mode": {
    "name": "ipython",
    "version": 3
   },
   "file_extension": ".py",
   "mimetype": "text/x-python",
   "name": "python",
   "nbconvert_exporter": "python",
   "pygments_lexer": "ipython3",
   "version": "3.13.2"
  }
 },
 "nbformat": 4,
 "nbformat_minor": 2
}
