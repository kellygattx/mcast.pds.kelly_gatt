{
 "cells": [
  {
   "cell_type": "markdown",
   "metadata": {},
   "source": [
    "### Dictionaries\n",
    "\n",
    "A dictionary is a data structure that stores key-value paira. Keys must be unique.\n",
    "\n",
    "Main characteristics:\n",
    "- **Key-Value Pairs** - Keys act as an id to retrieve the corresponding value\n",
    "- **Unordered** - Items are stored the way they are inserted.\n",
    "- **Mutable** - Dictionaries can change (add,modify, remove key-value pairs)\n",
    "- **Unique Keys** - Each key must be unique, if the same key is provided it will be overwritten\n",
    "- **Dynamic Size** - Can grow or shrink as needed\n",
    "- **Mixed Data Types** - Both keys and values can be of different data types"
   ]
  },
  {
   "cell_type": "markdown",
   "metadata": {},
   "source": [
    "### Creating a Dictionary"
   ]
  },
  {
   "cell_type": "code",
   "execution_count": 1,
   "metadata": {},
   "outputs": [
    {
     "name": "stdout",
     "output_type": "stream",
     "text": [
      "<class 'dict'>\n"
     ]
    }
   ],
   "source": [
    "# empty dictioary\n",
    "my_dict = {}\n",
    "print (type(my_dict))"
   ]
  },
  {
   "cell_type": "code",
   "execution_count": 4,
   "metadata": {},
   "outputs": [
    {
     "name": "stdout",
     "output_type": "stream",
     "text": [
      "{'name': 'Alex', 'age': 24}\n"
     ]
    }
   ],
   "source": [
    "#populated dictionary\n",
    "my_dict = {\"name\": \"Alex\", \"age\":24}\n",
    "print (my_dict)"
   ]
  },
  {
   "cell_type": "markdown",
   "metadata": {},
   "source": [
    "### Adding Elements"
   ]
  },
  {
   "cell_type": "code",
   "execution_count": 5,
   "metadata": {},
   "outputs": [
    {
     "name": "stdout",
     "output_type": "stream",
     "text": [
      "{'name': 'Alex', 'age': 24, 'locality': 'Sliema'}\n"
     ]
    }
   ],
   "source": [
    "my_dict[\"locality\"] = \"Sliema\"\n",
    "print(my_dict)"
   ]
  },
  {
   "cell_type": "code",
   "execution_count": 7,
   "metadata": {},
   "outputs": [
    {
     "name": "stdout",
     "output_type": "stream",
     "text": [
      "{'name': 'Alex', 'age': 24, 'locality': 'Sliema', 'hobbies': ['Swimming', 'Crochet', 'Hiking']}\n"
     ]
    }
   ],
   "source": [
    "# we can also add lists\n",
    "my_dict['hobbies'] = [\"Swimming\", \"Crochet\", \"Hiking\"]\n",
    "print (my_dict)"
   ]
  },
  {
   "cell_type": "code",
   "execution_count": 8,
   "metadata": {},
   "outputs": [
    {
     "name": "stdout",
     "output_type": "stream",
     "text": [
      "{'name': 'Alex', 'age': 24, 'locality': 'Sliema', 'hobbies': ['Swimming', 'Crochet', 'Hiking'], 'grades': {'SQL': 70, 'English': 90, 'Python': 40}}\n"
     ]
    }
   ],
   "source": [
    "#dictionaries can also be added\n",
    "my_dict[\"grades\"] = {\"SQL\" : 70, \"English\": 90, \"Python\":40}\n",
    "print(my_dict)"
   ]
  },
  {
   "cell_type": "markdown",
   "metadata": {},
   "source": [
    "### Editing an Element"
   ]
  },
  {
   "cell_type": "code",
   "execution_count": 9,
   "metadata": {},
   "outputs": [
    {
     "name": "stdout",
     "output_type": "stream",
     "text": [
      "{'name': 'Alex', 'age': 24, 'locality': 'Rabat', 'hobbies': ['Swimming', 'Crochet', 'Hiking'], 'grades': {'SQL': 70, 'English': 90, 'Python': 40}}\n"
     ]
    }
   ],
   "source": [
    "# change locality to Rabat\n",
    "my_dict[\"locality\"] = \"Rabat\"\n",
    "print (my_dict)"
   ]
  },
  {
   "cell_type": "markdown",
   "metadata": {},
   "source": [
    "### Accessing Elements"
   ]
  },
  {
   "cell_type": "code",
   "execution_count": 11,
   "metadata": {},
   "outputs": [
    {
     "name": "stdout",
     "output_type": "stream",
     "text": [
      "Alex\n",
      "['Swimming', 'Crochet', 'Hiking']\n",
      "Crochet\n",
      "70\n",
      "Over 18\n",
      "['Crochet', 'Hiking', 'Swimming']\n"
     ]
    }
   ],
   "source": [
    "# get the name\n",
    "print(my_dict[\"name\"])\n",
    " \n",
    "# get the hobbies\n",
    "print(my_dict['hobbies'])\n",
    " \n",
    "# get the second hobby\n",
    "print(my_dict['hobbies'][1])\n",
    " \n",
    "# get the grade for SQL\n",
    "print(my_dict[\"grades\"][\"SQL\"])\n",
    " \n",
    "# display over 18 if the age is over 18\n",
    "if my_dict['age']>18:\n",
    "    print('Over 18')\n",
    " \n",
    "# sort the hobbies in alphabetical order\n",
    "my_dict['hobbies'].sort()\n",
    "print(my_dict['hobbies'])"
   ]
  },
  {
   "cell_type": "markdown",
   "metadata": {},
   "source": [
    "### Removing Keys"
   ]
  },
  {
   "cell_type": "code",
   "execution_count": 12,
   "metadata": {},
   "outputs": [
    {
     "name": "stdout",
     "output_type": "stream",
     "text": [
      "{'name': 'Alex', 'age': 24, 'locality': 'Rabat', 'hobbies': ['Crochet', 'Hiking', 'Swimming']}\n"
     ]
    }
   ],
   "source": [
    "# remove the grades\n",
    "del (my_dict['grades'])\n",
    "print(my_dict)"
   ]
  },
  {
   "cell_type": "markdown",
   "metadata": {},
   "source": [
    "### Acessing various Components\n",
    "\n",
    "- `dict.items()` - list of key-value pairs\n",
    "- `dict.keys()` - returns all keys of dict\n",
    "- `dict.values()` - returns all values of dict"
   ]
  },
  {
   "cell_type": "code",
   "execution_count": 13,
   "metadata": {},
   "outputs": [
    {
     "data": {
      "text/plain": [
       "dict_keys(['name', 'age', 'locality', 'hobbies'])"
      ]
     },
     "execution_count": 13,
     "metadata": {},
     "output_type": "execute_result"
    }
   ],
   "source": [
    "my_dict.keys()"
   ]
  },
  {
   "cell_type": "code",
   "execution_count": 14,
   "metadata": {},
   "outputs": [
    {
     "name": "stdout",
     "output_type": "stream",
     "text": [
      "name\n",
      "age\n",
      "locality\n",
      "hobbies\n"
     ]
    }
   ],
   "source": [
    "for key in my_dict.keys():\n",
    "    print(key)\n"
   ]
  },
  {
   "cell_type": "code",
   "execution_count": 15,
   "metadata": {},
   "outputs": [
    {
     "data": {
      "text/plain": [
       "dict_values(['Alex', 24, 'Rabat', ['Crochet', 'Hiking', 'Swimming']])"
      ]
     },
     "execution_count": 15,
     "metadata": {},
     "output_type": "execute_result"
    }
   ],
   "source": [
    "my_dict.values()"
   ]
  },
  {
   "cell_type": "code",
   "execution_count": 16,
   "metadata": {},
   "outputs": [
    {
     "data": {
      "text/plain": [
       "dict_items([('name', 'Alex'), ('age', 24), ('locality', 'Rabat'), ('hobbies', ['Crochet', 'Hiking', 'Swimming'])])"
      ]
     },
     "execution_count": 16,
     "metadata": {},
     "output_type": "execute_result"
    }
   ],
   "source": [
    "my_dict.items()"
   ]
  },
  {
   "cell_type": "markdown",
   "metadata": {},
   "source": [
    "### Check for Key Existence"
   ]
  },
  {
   "cell_type": "code",
   "execution_count": 17,
   "metadata": {},
   "outputs": [
    {
     "data": {
      "text/plain": [
       "dict_keys(['name', 'age', 'locality', 'hobbies'])"
      ]
     },
     "execution_count": 17,
     "metadata": {},
     "output_type": "execute_result"
    }
   ],
   "source": [
    "my_dict.keys()"
   ]
  },
  {
   "cell_type": "code",
   "execution_count": 18,
   "metadata": {},
   "outputs": [
    {
     "name": "stdout",
     "output_type": "stream",
     "text": [
      "Key grade does not exist\n"
     ]
    }
   ],
   "source": [
    "if \"grade\" in my_dict:\n",
    "    print(my_dict[\"grade\"])\n",
    "else:\n",
    "    print('Key grade does not exist')"
   ]
  },
  {
   "cell_type": "code",
   "execution_count": 20,
   "metadata": {},
   "outputs": [
    {
     "name": "stdout",
     "output_type": "stream",
     "text": [
      "Key grade does not exist\n"
     ]
    }
   ],
   "source": [
    "if \"grade\" not in my_dict:\n",
    "    print('Key grade does not exist')"
   ]
  },
  {
   "cell_type": "markdown",
   "metadata": {},
   "source": [
    "### Size of a Dictionary"
   ]
  },
  {
   "cell_type": "code",
   "execution_count": 21,
   "metadata": {},
   "outputs": [
    {
     "name": "stdout",
     "output_type": "stream",
     "text": [
      "4\n"
     ]
    }
   ],
   "source": [
    "print(len(my_dict))"
   ]
  },
  {
   "cell_type": "markdown",
   "metadata": {},
   "source": [
    "#### Exercise\n",
    " \n",
    "- Create a dictionary named courses with two courses:\n",
    "    - \"Math\" with students Alice, and Bob\n",
    "    - \"Science\" with students Charlie\n",
    "- Print the dictionary\n",
    "- Add a new course \"History\" with no students\n",
    "- Add \"Dave\" to \"History\"\n",
    "- Add \"Alice\" to \"Science\" only if she is not enrolled\n",
    "- For the \"Math\" course, if \"Bob\" is enrolledd remove him, and add \"Eve\" in his place\n",
    "- Print each course name, with the number of students\n",
    "- Print a list of courses that have more than 1 student\n",
    " "
   ]
  },
  {
   "cell_type": "code",
   "execution_count": 26,
   "metadata": {},
   "outputs": [
    {
     "name": "stdout",
     "output_type": "stream",
     "text": [
      "<class 'dict'>\n"
     ]
    }
   ],
   "source": [
    "courses = {\"Math\": [\"Alice\",\"Bob\"], \"Science\":\"Charlie\"}\n",
    "print (type(courses))"
   ]
  },
  {
   "cell_type": "code",
   "execution_count": 27,
   "metadata": {},
   "outputs": [
    {
     "name": "stdout",
     "output_type": "stream",
     "text": [
      "{'Math': ['Alice', 'Bob'], 'Science': 'Charlie'}\n"
     ]
    }
   ],
   "source": [
    "print (courses)"
   ]
  },
  {
   "cell_type": "code",
   "execution_count": 29,
   "metadata": {},
   "outputs": [
    {
     "name": "stdout",
     "output_type": "stream",
     "text": [
      "{'Math': ['Alice', 'Bob'], 'Science': 'Charlie', 'History': []}\n"
     ]
    }
   ],
   "source": [
    "courses[\"History\"] = []\n",
    "print(courses)"
   ]
  },
  {
   "cell_type": "code",
   "execution_count": 31,
   "metadata": {},
   "outputs": [
    {
     "name": "stdout",
     "output_type": "stream",
     "text": [
      "{'Math': ['Alice', 'Bob'], 'Science': 'Charlie', 'History': ['Dave']}\n"
     ]
    }
   ],
   "source": [
    "courses [\"History\"] = [\"Dave\"]\n",
    "print(courses)"
   ]
  },
  {
   "cell_type": "code",
   "execution_count": 32,
   "metadata": {},
   "outputs": [
    {
     "ename": "AttributeError",
     "evalue": "'str' object has no attribute 'append'",
     "output_type": "error",
     "traceback": [
      "\u001b[1;31m---------------------------------------------------------------------------\u001b[0m",
      "\u001b[1;31mAttributeError\u001b[0m                            Traceback (most recent call last)",
      "Cell \u001b[1;32mIn[32], line 2\u001b[0m\n\u001b[0;32m      1\u001b[0m \u001b[38;5;28;01mif\u001b[39;00m \u001b[38;5;124m\"\u001b[39m\u001b[38;5;124mAlice\u001b[39m\u001b[38;5;124m\"\u001b[39m \u001b[38;5;129;01mnot\u001b[39;00m \u001b[38;5;129;01min\u001b[39;00m courses[\u001b[38;5;124m\"\u001b[39m\u001b[38;5;124mScience\u001b[39m\u001b[38;5;124m\"\u001b[39m]:\n\u001b[1;32m----> 2\u001b[0m     \u001b[43mcourses\u001b[49m\u001b[43m[\u001b[49m\u001b[38;5;124;43m\"\u001b[39;49m\u001b[38;5;124;43mScience\u001b[39;49m\u001b[38;5;124;43m\"\u001b[39;49m\u001b[43m]\u001b[49m\u001b[38;5;241;43m.\u001b[39;49m\u001b[43mappend\u001b[49m(\u001b[38;5;124m\"\u001b[39m\u001b[38;5;124mAlice\u001b[39m\u001b[38;5;124m\"\u001b[39m)\n",
      "\u001b[1;31mAttributeError\u001b[0m: 'str' object has no attribute 'append'"
     ]
    }
   ],
   "source": [
    "if \"Alice\" not in courses[\"Science\"]:\n",
    "    courses[\"Science\"].append(\"Alice\")"
   ]
  },
  {
   "cell_type": "code",
   "execution_count": 35,
   "metadata": {},
   "outputs": [
    {
     "name": "stdout",
     "output_type": "stream",
     "text": [
      "{'Math': ['Alice', 'Eve'], 'Science': 'Charlie', 'History': ['Dave']}\n"
     ]
    }
   ],
   "source": [
    "if \"Bob\" in courses [\"Math\"]:\n",
    "    courses[\"Math\"].remove(\"Bob\")\n",
    "    courses[\"Math\"].append(\"Eve\")\n",
    "\n",
    "print(courses)"
   ]
  },
  {
   "cell_type": "code",
   "execution_count": 37,
   "metadata": {},
   "outputs": [
    {
     "name": "stdout",
     "output_type": "stream",
     "text": [
      "Math has 2 student.\n",
      "Science has 7 student.\n",
      "History has 1 student.\n"
     ]
    }
   ],
   "source": [
    "for course, students in courses.items():\n",
    "    print (f'{course} has {len(students)} student.')"
   ]
  },
  {
   "cell_type": "code",
   "execution_count": 39,
   "metadata": {},
   "outputs": [
    {
     "name": "stdout",
     "output_type": "stream",
     "text": [
      "['Math', 'Science']\n"
     ]
    }
   ],
   "source": [
    "popular_courses = [course for course, students in courses.items() if len(students)>1]\n",
    "print(popular_courses)"
   ]
  }
 ],
 "metadata": {
  "kernelspec": {
   "display_name": "venv",
   "language": "python",
   "name": "python3"
  },
  "language_info": {
   "codemirror_mode": {
    "name": "ipython",
    "version": 3
   },
   "file_extension": ".py",
   "mimetype": "text/x-python",
   "name": "python",
   "nbconvert_exporter": "python",
   "pygments_lexer": "ipython3",
   "version": "3.13.2"
  }
 },
 "nbformat": 4,
 "nbformat_minor": 2
}
