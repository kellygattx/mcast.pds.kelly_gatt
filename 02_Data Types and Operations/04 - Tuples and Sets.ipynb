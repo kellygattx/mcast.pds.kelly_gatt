{
 "cells": [
  {
   "cell_type": "markdown",
   "metadata": {},
   "source": [
    "### Tuples\n",
    "\n",
    "A tuple is similar to a list; but with some differences:\n",
    "- **Immutable** - Once a tuple is created; you cannot modify it.\n",
    "- **Ordered** - It has a defined order; but it cannot be changed.\n",
    "- **Indexed** - You can access elements using indexes.\n",
    "- **Mixed Data Types** - Can store any type of data even mixed together.\n",
    "- **Fixed Size** - Since it is immutable its size will not change."
   ]
  },
  {
   "cell_type": "code",
   "execution_count": 1,
   "metadata": {},
   "outputs": [
    {
     "name": "stdout",
     "output_type": "stream",
     "text": [
      "('Java', 60, ['orange', 'apple'])\n"
     ]
    }
   ],
   "source": [
    "# Creating a Tuple\n",
    "\n",
    "my_tuple = (\"Java\", 60, [\"orange\", \"apple\"])\n",
    "print(my_tuple)"
   ]
  },
  {
   "cell_type": "code",
   "execution_count": 2,
   "metadata": {},
   "outputs": [
    {
     "name": "stdout",
     "output_type": "stream",
     "text": [
      "['orange', 'apple']\n",
      "('Java', 60)\n",
      "apple\n"
     ]
    }
   ],
   "source": [
    "# Access an Element\n",
    "\n",
    "# show the last element\n",
    "print (my_tuple[-1])\n",
    "\n",
    "# show the first two elements\n",
    "print (my_tuple[0:2])\n",
    "\n",
    "# show the last element of the last element\n",
    "print (my_tuple[-1][-1])"
   ]
  },
  {
   "cell_type": "code",
   "execution_count": 3,
   "metadata": {},
   "outputs": [
    {
     "name": "stdout",
     "output_type": "stream",
     "text": [
      "True\n",
      "False\n"
     ]
    }
   ],
   "source": [
    "# check the existence of value\n",
    "print ('Java' in my_tuple)\n",
    "print ('Python' in my_tuple)"
   ]
  },
  {
   "cell_type": "markdown",
   "metadata": {},
   "source": [
    "### Sets\n",
    "\n",
    "A set is a collection that is useful for strong unique elements.\n",
    "\n",
    "- **Unordered and Unindexed** - Sets do not have an order, and cannot be accessed using an index.\n",
    "- **Mutable** - Wec an add or remove items after a set is created.\n",
    "- **Unique Elements** - Each element in a set is distinct and unique\n",
    "- **Dynamic Size** - It can grow or shrink\n",
    "- **Mixed Data Types** - Can store different elements"
   ]
  },
  {
   "cell_type": "code",
   "execution_count": 4,
   "metadata": {},
   "outputs": [
    {
     "ename": "NameError",
     "evalue": "name 'my_set' is not defined",
     "output_type": "error",
     "traceback": [
      "\u001b[1;31m---------------------------------------------------------------------------\u001b[0m",
      "\u001b[1;31mNameError\u001b[0m                                 Traceback (most recent call last)",
      "Cell \u001b[1;32mIn[4], line 2\u001b[0m\n\u001b[0;32m      1\u001b[0m \u001b[38;5;66;03m# removing an element\u001b[39;00m\n\u001b[1;32m----> 2\u001b[0m \u001b[43mmy_set\u001b[49m\u001b[38;5;241m.\u001b[39mremove(\u001b[38;5;124m'\u001b[39m\u001b[38;5;124mPython\u001b[39m\u001b[38;5;124m'\u001b[39m)\n\u001b[0;32m      3\u001b[0m \u001b[38;5;28mprint\u001b[39m (my_set)\n",
      "\u001b[1;31mNameError\u001b[0m: name 'my_set' is not defined"
     ]
    }
   ],
   "source": [
    "# removing an element\n",
    "my_set.remove('Python')\n",
    "print (my_set)"
   ]
  },
  {
   "cell_type": "code",
   "execution_count": null,
   "metadata": {},
   "outputs": [],
   "source": [
    "# check for value existence\n",
    "print ('Java' in my_set)"
   ]
  },
  {
   "cell_type": "markdown",
   "metadata": {},
   "source": [
    "#### Set Operations\n",
    "\n",
    "- `|` - union returns all items in both sets without repetition\n",
    "- `&` - intersect"
   ]
  }
 ],
 "metadata": {
  "kernelspec": {
   "display_name": "venv",
   "language": "python",
   "name": "python3"
  },
  "language_info": {
   "codemirror_mode": {
    "name": "ipython",
    "version": 3
   },
   "file_extension": ".py",
   "mimetype": "text/x-python",
   "name": "python",
   "nbconvert_exporter": "python",
   "pygments_lexer": "ipython3",
   "version": "3.13.2"
  }
 },
 "nbformat": 4,
 "nbformat_minor": 2
}
