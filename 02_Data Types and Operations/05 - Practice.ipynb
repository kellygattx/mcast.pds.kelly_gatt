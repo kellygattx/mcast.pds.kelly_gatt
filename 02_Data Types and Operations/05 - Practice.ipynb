{
 "cells": [
  {
   "cell_type": "markdown",
   "metadata": {},
   "source": [
    "### Exercise 1\n",
    " \n",
    "- Create a list `catalog` with 3 dictionaries for books having keys `title`, `author`, `price`, `stock`\n",
    "- Create a set `author_set` with the names of the authors.\n",
    "- Create a set `category_set` with two categories.\n",
    "- Create a variable `purchase_title` with the name of a book that a customer wants to buy (this must be input)\n",
    "- Look for the book in `catalog`:\n",
    "    - If it does not exist print `Book not available` and end\n",
    "    - If it does exist:\n",
    "        - Check for stock availability. If it's not available print `Out of Stock` and end\n",
    "        - Calculate the cost with a 15% tax\n",
    "        - Display the new cost\n",
    "        - Decrease the stock\n",
    "        - If the author of the sold book is not in `author_set`, add it\n",
    "        - Print the new `author_set`\n",
    " "
   ]
  },
  {
   "cell_type": "code",
   "execution_count": 2,
   "metadata": {},
   "outputs": [
    {
     "name": "stdout",
     "output_type": "stream",
     "text": [
      "Total cost (with tax): $23.00\n",
      "Updated author set: {'Author Y', 'Author X'}\n"
     ]
    }
   ],
   "source": [
    "# Creating a catalog of books\n",
    "catalog = [\n",
    "    {\"title\": \"Book A\", \"author\": \"Author X\", \"price\": 20, \"stock\": 5},\n",
    "    {\"title\": \"Book B\", \"author\": \"Author Y\", \"price\": 15, \"stock\": 2},\n",
    "    {\"title\": \"Book C\", \"author\": \"Author Z\", \"price\": 25, \"stock\": 0},  # Out of stock\n",
    "]\n",
    "\n",
    "# Creating sets for authors and categories\n",
    "author_set = {\"Author X\", \"Author Y\"}\n",
    "category_set = {\"Fiction\", \"Non-Fiction\"}\n",
    "\n",
    "# User input for book purchase\n",
    "purchase_title = input(\"Enter the title of the book you want to buy: \")\n",
    "\n",
    "# Searching for the book in the catalog\n",
    "book_found = None\n",
    "for book in catalog:\n",
    "    if book[\"title\"].lower() == purchase_title.lower():\n",
    "        book_found = book\n",
    "        break\n",
    "\n",
    "# If the book is not found\n",
    "if not book_found:\n",
    "    print(\"Book not available\")\n",
    "else:\n",
    "    # Check stock availability\n",
    "    if book_found[\"stock\"] == 0:\n",
    "        print(\"Out of Stock\")\n",
    "    else:\n",
    "        # Calculate cost with 15% tax\n",
    "        total_cost = book_found[\"price\"] * 1.15\n",
    "        print(f\"Total cost (with tax): ${total_cost:.2f}\")\n",
    "\n",
    "        # Decrease stock\n",
    "        book_found[\"stock\"] -= 1\n",
    "\n",
    "        # Add author to author_set if not present\n",
    "        author_set.add(book_found[\"author\"])\n",
    "\n",
    "        # Print updated author set\n",
    "        print(\"Updated author set:\", author_set)\n"
   ]
  },
  {
   "cell_type": "markdown",
   "metadata": {},
   "source": [
    "### Exercise 2\n",
    " \n",
    "- Initialise 3 variables (`traveller_name`: `Alice`, `total_budget` :`3000`,  `location_budget` : `500`, `favourite_activities`: {\"historic\", \"museum\"})\n",
    "- Create a list of destinations with this data:\n",
    "    <br/>`{\"name\": \"paris\", \"cost_per_day\": 150, \"days\": 3, \"activities\": [\"museum\", \"cafe\", \"walk\"]}`\n",
    "    <br/>`{\"name\": \"rome\", \"cost_per_day\": 120, \"days\": 4, \"activities\": [\"historic sites\", \"cafe\", \"opera\"]}`\n",
    "    <br/>`{\"name\": \"london\", \"cost_per_day\": 200, \"days\": 2, \"activities\": [\"theatre\", \"pub\", \"walk\"]}`\n",
    "    <br/>`{name\": \"berlin\", \"cost_per_day\": 100, \"days\": 5, \"activities\": [\"museum\", \"nightlife\", \"park\"]}`\n",
    "- Convert all names of destinations to Title Case\n",
    "- Create a list `affordable_destinations` with all destinations that are equal or less to the location_budget\n",
    "- Create an empty list named `itinerary`\n",
    "- Create a variable named `remaining_budget` which is equal to `total_budget`\n",
    "- Iterate through the `affordable_destinations` and if the total cost is less that the `remaining_budget` add a tuple with the destination name and days to itinerary, and deduct the cost from `remaining_budget`.\n",
    "- Create an empty set `all_activities`\n",
    "- Create a set made up of the destination names placed in `itinerary`\n",
    "- Add the activities of each destination to `all_activities`\n",
    "- Print the final outcome:\n",
    "    - Name of client\n",
    "    - Destinations to visit (along with days) and total cost\n",
    "    - List of activities in itinerary\n",
    "    - Common activities with favourites\n",
    "    - Remaining Balance\n",
    " "
   ]
  }
 ],
 "metadata": {
  "kernelspec": {
   "display_name": "venv",
   "language": "python",
   "name": "python3"
  },
  "language_info": {
   "codemirror_mode": {
    "name": "ipython",
    "version": 3
   },
   "file_extension": ".py",
   "mimetype": "text/x-python",
   "name": "python",
   "nbconvert_exporter": "python",
   "pygments_lexer": "ipython3",
   "version": "3.13.2"
  }
 },
 "nbformat": 4,
 "nbformat_minor": 2
}
