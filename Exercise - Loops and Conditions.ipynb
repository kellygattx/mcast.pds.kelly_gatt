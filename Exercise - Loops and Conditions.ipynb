{
 "cells": [
  {
   "cell_type": "markdown",
   "id": "1f495278",
   "metadata": {},
   "source": [
    "### Exercise - Loops and Conditions\n"
   ]
  },
  {
   "cell_type": "markdown",
   "id": "3e6b25cc",
   "metadata": {},
   "source": [
    "#### Part 1\n",
    "1. Print the numbers 1 to 10 using a for loop.\n",
    "2. Use a while loop to print numbers from 5 to 10.\n",
    "3. Write an if-else statement to check if a number is even or odd.\n",
    "4. Create a list of 5 fruits, and use a for loop to print each fruit in uppercase.\n",
    "5. Given a list of numbers, use a for loop to print every even number.\n",
    "6. Use a while loop and input() to collect 3 valid names (not empty) from a user. Print them at the end.\n",
    "7. Use if-elif-else to print the grade (A,B,C,D,F) for a given mark (0 to 100)."
   ]
  },
  {
   "cell_type": "code",
   "execution_count": 1,
   "id": "b1d98c4d",
   "metadata": {},
   "outputs": [
    {
     "name": "stdout",
     "output_type": "stream",
     "text": [
      "1\n",
      "2\n",
      "3\n",
      "4\n",
      "5\n",
      "6\n",
      "7\n",
      "8\n",
      "9\n",
      "10\n"
     ]
    }
   ],
   "source": [
    "for i in range (1, 11):\n",
    "    print(i)"
   ]
  },
  {
   "cell_type": "code",
   "execution_count": 2,
   "id": "946b9838",
   "metadata": {},
   "outputs": [
    {
     "name": "stdout",
     "output_type": "stream",
     "text": [
      "5\n",
      "6\n",
      "7\n",
      "8\n",
      "9\n",
      "10\n"
     ]
    }
   ],
   "source": [
    "num = 5\n",
    "while num <= 10:\n",
    "    print(num)\n",
    "    num+=1"
   ]
  },
  {
   "cell_type": "code",
   "execution_count": 5,
   "id": "c3f7e0a0",
   "metadata": {},
   "outputs": [
    {
     "name": "stdout",
     "output_type": "stream",
     "text": [
      "Odd\n"
     ]
    }
   ],
   "source": [
    "num = 7\n",
    "if num % 2 == 0:\n",
    "    print ('Even')\n",
    "else:\n",
    "    print('Odd')"
   ]
  },
  {
   "cell_type": "code",
   "execution_count": 6,
   "id": "129c0697",
   "metadata": {},
   "outputs": [
    {
     "name": "stdout",
     "output_type": "stream",
     "text": [
      "PINEAPPLE\n",
      "APPLE\n",
      "DRAGONFRUIT\n",
      "LEMON\n",
      "KIWI\n"
     ]
    }
   ],
   "source": [
    "fruits = ['pineapple', 'apple', 'dragonfruit', 'lemon', 'kiwi']\n",
    "for fruit in fruits:\n",
    "    print (fruit.upper())"
   ]
  },
  {
   "cell_type": "code",
   "execution_count": 7,
   "id": "af3139b5",
   "metadata": {},
   "outputs": [
    {
     "name": "stdout",
     "output_type": "stream",
     "text": [
      "22\n",
      "10\n"
     ]
    }
   ],
   "source": [
    "nums = [22, 10, 9, 53, 77]\n",
    "for num in nums:\n",
    "    if (num%2==0):\n",
    "        print(num)"
   ]
  },
  {
   "cell_type": "code",
   "execution_count": 9,
   "id": "3ebfb835",
   "metadata": {},
   "outputs": [
    {
     "name": "stdout",
     "output_type": "stream",
     "text": [
      "['kelly', 'emma', 'luke']\n"
     ]
    }
   ],
   "source": [
    "names = []\n",
    "while len(names)<3:\n",
    "    name = input(\"enter a name:\")\n",
    "    if name:\n",
    "        names.append(name)\n",
    "print (names)"
   ]
  },
  {
   "cell_type": "code",
   "execution_count": 11,
   "id": "997ca4f5",
   "metadata": {},
   "outputs": [
    {
     "name": "stdout",
     "output_type": "stream",
     "text": [
      "D\n"
     ]
    }
   ],
   "source": [
    "score = 55\n",
    "if score >= 85:\n",
    "    print(\"A\")\n",
    "elif score >= 75:\n",
    "    print(\"B\")\n",
    "elif score >= 65:\n",
    "    print(\"C\")\n",
    "elif score >= 55:\n",
    "    print(\"D\")\n",
    "else:\n",
    "    print(\"F\")"
   ]
  },
  {
   "cell_type": "markdown",
   "id": "0d9829b2",
   "metadata": {},
   "source": [
    "#### Part 2\n",
    "\n",
    "8. Given a dictionary with names as keys and ages as values. Print names of all people older than 18.\n",
    "9. Use a nested for loop to print the multiplication tables for numbers 3 to 5.\n",
    "10. Write a while loop that stops after iterating 7 times using a break operator.\n",
    "11. Given a list, use a for loop and if statement to pint all elements greater than 10.\n",
    "12. Create a set of 5 random numbers using a loop and use a for loop to display all numbers squared. Hint: use random package.\n",
    "13. Given a string use a for loop to count how many times the letter a appears.\n",
    "14. Write a for loop that iterates over a string and prints each character, except spaces (use continue)."
   ]
  },
  {
   "cell_type": "code",
   "execution_count": 12,
   "id": "75c3f577",
   "metadata": {},
   "outputs": [
    {
     "name": "stdout",
     "output_type": "stream",
     "text": [
      "Kelly\n",
      "Sarah\n"
     ]
    }
   ],
   "source": [
    "details = {\n",
    "    \"Kelly\" : 19,\n",
    "    \"Emma\": 11,\n",
    "    \"Luke\": 17,\n",
    "    \"Sarah\": 40\n",
    "}\n",
    "\n",
    "for item in details:\n",
    "    if(details[item]>18):\n",
    "        print(item)"
   ]
  },
  {
   "cell_type": "code",
   "execution_count": 13,
   "id": "a23ad05c",
   "metadata": {},
   "outputs": [
    {
     "name": "stdout",
     "output_type": "stream",
     "text": [
      "3 x 1 = 3\n",
      "3 x 2 = 6\n",
      "3 x 3 = 9\n",
      "3 x 4 = 12\n",
      "3 x 5 = 15\n",
      "3 x 6 = 18\n",
      "3 x 7 = 21\n",
      "3 x 8 = 24\n",
      "3 x 9 = 27\n",
      "3 x 10 = 30\n",
      "3 x 11 = 33\n",
      "3 x 12 = 36\n",
      "\n",
      "\n",
      "4 x 1 = 4\n",
      "4 x 2 = 8\n",
      "4 x 3 = 12\n",
      "4 x 4 = 16\n",
      "4 x 5 = 20\n",
      "4 x 6 = 24\n",
      "4 x 7 = 28\n",
      "4 x 8 = 32\n",
      "4 x 9 = 36\n",
      "4 x 10 = 40\n",
      "4 x 11 = 44\n",
      "4 x 12 = 48\n",
      "\n",
      "\n",
      "5 x 1 = 5\n",
      "5 x 2 = 10\n",
      "5 x 3 = 15\n",
      "5 x 4 = 20\n",
      "5 x 5 = 25\n",
      "5 x 6 = 30\n",
      "5 x 7 = 35\n",
      "5 x 8 = 40\n",
      "5 x 9 = 45\n",
      "5 x 10 = 50\n",
      "5 x 11 = 55\n",
      "5 x 12 = 60\n",
      "\n",
      "\n"
     ]
    }
   ],
   "source": [
    "for num in range(3, 6):\n",
    "    for times in range(1, 13):\n",
    "        print (f\"{num} x {times} = {num*times}\")\n",
    "    print(\"\\n\")"
   ]
  },
  {
   "cell_type": "code",
   "execution_count": 14,
   "id": "59a22bef",
   "metadata": {},
   "outputs": [
    {
     "name": "stdout",
     "output_type": "stream",
     "text": [
      "1\n",
      "2\n",
      "3\n",
      "4\n",
      "5\n",
      "6\n",
      "7\n"
     ]
    }
   ],
   "source": [
    "itr = 0\n",
    "while True:\n",
    "    itr+=1\n",
    "    print(itr)\n",
    "    if (itr==7):\n",
    "        break"
   ]
  },
  {
   "cell_type": "code",
   "execution_count": 15,
   "id": "cae51e15",
   "metadata": {},
   "outputs": [
    {
     "name": "stdout",
     "output_type": "stream",
     "text": [
      "22\n",
      "30\n"
     ]
    }
   ],
   "source": [
    "nums = [2, 10,22, 30, 9]\n",
    "for num in nums:\n",
    "    if num>10: \n",
    "        print(num)"
   ]
  },
  {
   "cell_type": "code",
   "execution_count": 16,
   "id": "ebdd6a99",
   "metadata": {},
   "outputs": [
    {
     "name": "stdout",
     "output_type": "stream",
     "text": [
      "96\n",
      "19\n",
      "26\n",
      "59\n",
      "30\n"
     ]
    }
   ],
   "source": [
    "import random\n",
    "nums = set()\n",
    "for i in range(0, 5):\n",
    "    nums.add(random.randint(1, 100))\n",
    "\n",
    "for num in nums:\n",
    "    print(num)"
   ]
  },
  {
   "cell_type": "code",
   "execution_count": 17,
   "id": "c7b9437d",
   "metadata": {},
   "outputs": [
    {
     "name": "stdout",
     "output_type": "stream",
     "text": [
      "2\n"
     ]
    }
   ],
   "source": [
    "sentence = 'Summer is approaching.'\n",
    "\n",
    "count = 0\n",
    "for letter in sentence:\n",
    "    if letter == 'a':\n",
    "        count+=1\n",
    "\n",
    "print(count)"
   ]
  },
  {
   "cell_type": "code",
   "execution_count": 19,
   "id": "c9159954",
   "metadata": {},
   "outputs": [
    {
     "name": "stdout",
     "output_type": "stream",
     "text": [
      "S\n",
      "u\n",
      "m\n",
      "m\n",
      "e\n",
      "r\n",
      "i\n",
      "s\n",
      "a\n",
      "p\n",
      "p\n",
      "r\n",
      "o\n",
      "a\n",
      "c\n",
      "h\n",
      "i\n",
      "n\n",
      "g\n",
      ".\n"
     ]
    }
   ],
   "source": [
    "sentence = 'Summer is approaching.'\n",
    "\n",
    "count = 0\n",
    "for letter in sentence:\n",
    "    if letter == ' ':\n",
    "        continue\n",
    "    print(letter)"
   ]
  },
  {
   "cell_type": "markdown",
   "id": "1a04c2da",
   "metadata": {},
   "source": [
    "#### Part 3\n",
    "\n",
    "15. Given a list of tuples where each tuple contains a name, and a score, write a loop to print names of people with scores greater than 75.\n",
    "16. Implement a while loop that asks for user input until they type exit.\n",
    "17. Create a dictionary using loops to map numbers from 1 to 10 to their square values. Print all the elements in the set.\n",
    "18. Given two lists of equal length, use a single for loop to print each pair of elements from both lists.\n",
    "19. Write a script that uses nested loops to print the following pattern.\n",
    "20. Create a list of numbers. Then, using a single loop, create a new list that contains each number squared if the number is even or cubed if the number is odd."
   ]
  },
  {
   "cell_type": "code",
   "execution_count": 20,
   "id": "ca0fb24f",
   "metadata": {},
   "outputs": [
    {
     "name": "stdout",
     "output_type": "stream",
     "text": [
      "Kelly\n",
      "Maya\n"
     ]
    }
   ],
   "source": [
    "scores = [\n",
    "    (\"Kelly\", 85),\n",
    "    (\"Ella\", 60),\n",
    "    (\"Maya\", 78)\n",
    "]\n",
    "\n",
    "for name,score in scores:\n",
    "    if (score>75):\n",
    "        print(name)"
   ]
  },
  {
   "cell_type": "code",
   "execution_count": 21,
   "id": "48298377",
   "metadata": {},
   "outputs": [],
   "source": [
    "while True:\n",
    "    text = input(\"Enter text (Type exit to quit):\")\n",
    "    if text == 'exit':\n",
    "        break\n",
    "    print(f\"You typed f{text}\")"
   ]
  },
  {
   "cell_type": "code",
   "execution_count": 22,
   "id": "6bec87d4",
   "metadata": {},
   "outputs": [
    {
     "name": "stdout",
     "output_type": "stream",
     "text": [
      "1\n",
      "4\n",
      "9\n",
      "16\n",
      "25\n",
      "36\n",
      "49\n",
      "64\n",
      "81\n",
      "100\n"
     ]
    }
   ],
   "source": [
    "squares = {i: i**2 for i in range(1,11)}\n",
    "\n",
    "for value in squares.values():\n",
    "    print(value)"
   ]
  },
  {
   "cell_type": "code",
   "execution_count": 23,
   "id": "7a37c3cc",
   "metadata": {},
   "outputs": [
    {
     "name": "stdout",
     "output_type": "stream",
     "text": [
      "a x\n",
      "b y\n",
      "c z\n"
     ]
    }
   ],
   "source": [
    "list1 = ['a', 'b', 'c']\n",
    "list2 = ['x', 'y', 'z']\n",
    "\n",
    "for i in range(len(list1)):\n",
    "    print (list1[i], list2[i])"
   ]
  },
  {
   "cell_type": "code",
   "execution_count": 24,
   "id": "b7c43d38",
   "metadata": {},
   "outputs": [
    {
     "name": "stdout",
     "output_type": "stream",
     "text": [
      "*\n",
      "**\n",
      "***\n",
      "****\n",
      "*****\n"
     ]
    }
   ],
   "source": [
    "for i in range(1,6):\n",
    "    print('*'*i)"
   ]
  },
  {
   "cell_type": "code",
   "execution_count": 25,
   "id": "e9c46f97",
   "metadata": {},
   "outputs": [
    {
     "name": "stdout",
     "output_type": "stream",
     "text": [
      "[3, 4, 9, 8, 15]\n"
     ]
    }
   ],
   "source": [
    "nums = [1,2,3,4,5]\n",
    "new_numbers = [num *2 if num %2 ==0 else num*3 for num in nums]\n",
    "\n",
    "print(new_numbers)"
   ]
  }
 ],
 "metadata": {
  "kernelspec": {
   "display_name": "Python 3",
   "language": "python",
   "name": "python3"
  },
  "language_info": {
   "codemirror_mode": {
    "name": "ipython",
    "version": 3
   },
   "file_extension": ".py",
   "mimetype": "text/x-python",
   "name": "python",
   "nbconvert_exporter": "python",
   "pygments_lexer": "ipython3",
   "version": "3.13.2"
  }
 },
 "nbformat": 4,
 "nbformat_minor": 5
}
