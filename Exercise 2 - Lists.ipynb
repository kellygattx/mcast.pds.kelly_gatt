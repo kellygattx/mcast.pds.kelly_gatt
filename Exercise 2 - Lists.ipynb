{
 "cells": [
  {
   "cell_type": "markdown",
   "metadata": {},
   "source": [
    "1. Create a list named details that contains your name, your age, and a list of hobbies (at least 3).\n",
    "2. Display the message My age is 24, age must be extracted from the list.\n",
    "3. Display the last hobby in the list.\n",
    "4. Add another value to the list storing your email.\n",
    "5. Print the list.\n",
    "6. Add another hobby to the list.\n",
    "7. Print the list.\n",
    "8. Create an empty list called details_copy.\n",
    "9. Use list iteration to copy every element from details to details_copy.\n",
    "10. Print details_copy to ensure it copied successfully.\n",
    "11. Remove the email from details_copy.\n",
    "12. Display the message I have 4 hobbies making sure not to hard-code the number of hobbies.\n",
    "13. Sort details_copy."
   ]
  },
  {
   "cell_type": "code",
   "execution_count": 1,
   "metadata": {},
   "outputs": [],
   "source": [
    "details = ['Kelly', 19, ['Travelling', 'Shopping', 'Football']]"
   ]
  },
  {
   "cell_type": "code",
   "execution_count": 2,
   "metadata": {},
   "outputs": [
    {
     "name": "stdout",
     "output_type": "stream",
     "text": [
      "My age is 19\n"
     ]
    }
   ],
   "source": [
    "print ('My age is ' + str(details[1]))"
   ]
  },
  {
   "cell_type": "code",
   "execution_count": 3,
   "metadata": {},
   "outputs": [
    {
     "name": "stdout",
     "output_type": "stream",
     "text": [
      "Football\n"
     ]
    }
   ],
   "source": [
    "print (details[2][-1])"
   ]
  },
  {
   "cell_type": "code",
   "execution_count": 5,
   "metadata": {},
   "outputs": [],
   "source": [
    "details.append('kellygatt382@gmail.com')"
   ]
  },
  {
   "cell_type": "code",
   "execution_count": 6,
   "metadata": {},
   "outputs": [
    {
     "name": "stdout",
     "output_type": "stream",
     "text": [
      "['Kelly', 19, ['Travelling', 'Shopping', 'Football'], 'kellygatt382@gmail.com', 'kellygatt382@gmail.com']\n"
     ]
    }
   ],
   "source": [
    "print(details)"
   ]
  },
  {
   "cell_type": "code",
   "execution_count": 7,
   "metadata": {},
   "outputs": [],
   "source": [
    "details[2].append('Baking')"
   ]
  },
  {
   "cell_type": "code",
   "execution_count": 8,
   "metadata": {},
   "outputs": [
    {
     "name": "stdout",
     "output_type": "stream",
     "text": [
      "['Travelling', 'Shopping', 'Football', 'Baking']\n"
     ]
    }
   ],
   "source": [
    "print(details[2])"
   ]
  },
  {
   "cell_type": "code",
   "execution_count": 9,
   "metadata": {},
   "outputs": [],
   "source": [
    "details_copy = []"
   ]
  },
  {
   "cell_type": "code",
   "execution_count": 10,
   "metadata": {},
   "outputs": [],
   "source": [
    "for item in details:\n",
    "    details_copy.append(item)"
   ]
  },
  {
   "cell_type": "code",
   "execution_count": 11,
   "metadata": {},
   "outputs": [
    {
     "name": "stdout",
     "output_type": "stream",
     "text": [
      "['Kelly', 19, ['Travelling', 'Shopping', 'Football', 'Baking'], 'kellygatt382@gmail.com', 'kellygatt382@gmail.com']\n"
     ]
    }
   ],
   "source": [
    "print (details_copy)"
   ]
  },
  {
   "cell_type": "code",
   "execution_count": 12,
   "metadata": {},
   "outputs": [
    {
     "data": {
      "text/plain": [
       "'kellygatt382@gmail.com'"
      ]
     },
     "execution_count": 12,
     "metadata": {},
     "output_type": "execute_result"
    }
   ],
   "source": [
    "details_copy.pop()"
   ]
  },
  {
   "cell_type": "code",
   "execution_count": 13,
   "metadata": {},
   "outputs": [
    {
     "name": "stdout",
     "output_type": "stream",
     "text": [
      "I have 4 hobbies\n"
     ]
    }
   ],
   "source": [
    "print (\"I have \" + str(len(details_copy[2])) + \" hobbies\")"
   ]
  },
  {
   "cell_type": "code",
   "execution_count": 14,
   "metadata": {},
   "outputs": [
    {
     "name": "stdout",
     "output_type": "stream",
     "text": [
      "[19, 'Kelly', ['Travelling', 'Shopping', 'Football', 'Baking'], 'kellygatt382@gmail.com']\n"
     ]
    }
   ],
   "source": [
    "details_copy.sort(key=str)\n",
    "print (details_copy)"
   ]
  }
 ],
 "metadata": {
  "kernelspec": {
   "display_name": "Python 3",
   "language": "python",
   "name": "python3"
  },
  "language_info": {
   "codemirror_mode": {
    "name": "ipython",
    "version": 3
   },
   "file_extension": ".py",
   "mimetype": "text/x-python",
   "name": "python",
   "nbconvert_exporter": "python",
   "pygments_lexer": "ipython3",
   "version": "3.13.2"
  }
 },
 "nbformat": 4,
 "nbformat_minor": 2
}
