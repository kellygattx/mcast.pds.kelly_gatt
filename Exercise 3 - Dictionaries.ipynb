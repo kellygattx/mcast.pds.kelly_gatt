{
 "cells": [
  {
   "cell_type": "markdown",
   "metadata": {},
   "source": [
    "1. Create a dictionary game for a video game details. Include at least the following key-value pairs title, price, platforms. platforms should be a list.\n",
    "2. Display the price of the game, reduced by 10%.\n",
    "3. Add another field storing the rating of the game.\n",
    "4. Add another field storing the year_released of the game.\n",
    "5. Remove the platforms key.\n",
    "6. Print the dictionary to check that it's correct.\n",
    "7. Display all the keys of the dictionary.\n",
    "8. Create a list game_list that stores all the values (without the keys). Make sure the data type is a list. Print it out after creating it.\n",
    "9. Create a new dictionary game_additional that contains 2 more keys publisher and dlc_available, and assign them a value.\n",
    "10. Merge the dictionary game_additional into the dictionary game."
   ]
  },
  {
   "cell_type": "code",
   "execution_count": 1,
   "metadata": {},
   "outputs": [],
   "source": [
    "game = {\n",
    "    \"title\" : \"Roblox\",\n",
    "    \"price\" : 20,\n",
    "    \"platforms\": [\"PC\", \"Smartphone\"]\n",
    "}"
   ]
  },
  {
   "cell_type": "code",
   "execution_count": 2,
   "metadata": {},
   "outputs": [
    {
     "name": "stdout",
     "output_type": "stream",
     "text": [
      "18.0\n"
     ]
    }
   ],
   "source": [
    "print (game[\"price\"]*0.9)"
   ]
  },
  {
   "cell_type": "code",
   "execution_count": 3,
   "metadata": {},
   "outputs": [],
   "source": [
    "game[\"rating\"] = 8.5"
   ]
  },
  {
   "cell_type": "code",
   "execution_count": 4,
   "metadata": {},
   "outputs": [],
   "source": [
    "game[\"year_released\"] = 2005"
   ]
  },
  {
   "cell_type": "code",
   "execution_count": 5,
   "metadata": {},
   "outputs": [],
   "source": [
    "del(game[\"platforms\"])"
   ]
  },
  {
   "cell_type": "code",
   "execution_count": 6,
   "metadata": {},
   "outputs": [
    {
     "name": "stdout",
     "output_type": "stream",
     "text": [
      "{'title': 'Roblox', 'price': 20, 'rating': 8.5, 'year_released': 2005}\n"
     ]
    }
   ],
   "source": [
    "print(game)"
   ]
  },
  {
   "cell_type": "code",
   "execution_count": 7,
   "metadata": {},
   "outputs": [
    {
     "name": "stdout",
     "output_type": "stream",
     "text": [
      "dict_keys(['title', 'price', 'rating', 'year_released'])\n"
     ]
    }
   ],
   "source": [
    "print(game.keys())"
   ]
  },
  {
   "cell_type": "code",
   "execution_count": 8,
   "metadata": {},
   "outputs": [
    {
     "name": "stdout",
     "output_type": "stream",
     "text": [
      "['Roblox', 20, 8.5, 2005]\n"
     ]
    }
   ],
   "source": [
    "game_list = list(game.values())\n",
    "print(game_list)"
   ]
  },
  {
   "cell_type": "code",
   "execution_count": 9,
   "metadata": {},
   "outputs": [],
   "source": [
    "game_additional = {\n",
    "    \"publisher\" : \"Kelly Gatt\",\n",
    "    \"dlc_available\": False\n",
    "}"
   ]
  },
  {
   "cell_type": "code",
   "execution_count": 10,
   "metadata": {},
   "outputs": [
    {
     "name": "stdout",
     "output_type": "stream",
     "text": [
      "{'title': 'Roblox', 'price': 20, 'rating': 8.5, 'year_released': 2005, 'publisher': 'Kelly Gatt', 'dlc_available': False}\n"
     ]
    }
   ],
   "source": [
    "game.update(game_additional)\n",
    "print(game)"
   ]
  }
 ],
 "metadata": {
  "kernelspec": {
   "display_name": "Python 3",
   "language": "python",
   "name": "python3"
  },
  "language_info": {
   "codemirror_mode": {
    "name": "ipython",
    "version": 3
   },
   "file_extension": ".py",
   "mimetype": "text/x-python",
   "name": "python",
   "nbconvert_exporter": "python",
   "pygments_lexer": "ipython3",
   "version": "3.13.2"
  }
 },
 "nbformat": 4,
 "nbformat_minor": 2
}
