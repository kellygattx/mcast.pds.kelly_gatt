{
 "cells": [
  {
   "cell_type": "markdown",
   "id": "ed450643",
   "metadata": {},
   "source": [
    "### Exercise 4\n",
    "1. Create a set my_colours that store the colours red, green, and fuchsia.\n",
    "2. Create a list used_colours that store the colours red, orange, purple.\n",
    "3. Use list iteration on used_colours, add each colour to the set my_colours.\n",
    "4. Print the contents of the set.\n",
    "5. Create another set interesting_colours with the colours fuchsia and turqoise.\n",
    "6. Print the common elements between the sets my_colours and interesting_colours.\n",
    "7. Check if the colour brown appears in the set my_colours.\n",
    "8. Create a frozenset named frozen_colours based on my_colours.\n",
    "9. Try to add brown to frozen_colours."
   ]
  },
  {
   "cell_type": "code",
   "execution_count": 22,
   "id": "0cbe1709",
   "metadata": {},
   "outputs": [],
   "source": [
    "my_colours = {\"red\", \"green\", \"fuchsia\"}"
   ]
  },
  {
   "cell_type": "code",
   "execution_count": 23,
   "id": "3010066c",
   "metadata": {},
   "outputs": [],
   "source": [
    "used_colours = [\"red\", \"orange\", \"purple\"]"
   ]
  },
  {
   "cell_type": "code",
   "execution_count": 24,
   "id": "09e996fb",
   "metadata": {},
   "outputs": [],
   "source": [
    "for colour in used_colours:\n",
    "    my_colours.add(colour)"
   ]
  },
  {
   "cell_type": "code",
   "execution_count": 25,
   "id": "56ec2a62",
   "metadata": {},
   "outputs": [
    {
     "name": "stdout",
     "output_type": "stream",
     "text": [
      "{'red', 'orange', 'purple', 'green', 'fuchsia'}\n"
     ]
    }
   ],
   "source": [
    "print(my_colours)"
   ]
  },
  {
   "cell_type": "code",
   "execution_count": 26,
   "id": "b71209ff",
   "metadata": {},
   "outputs": [],
   "source": [
    "interesting_colours = {\"fuchsia\", \"turqoise\"}"
   ]
  },
  {
   "cell_type": "code",
   "execution_count": 27,
   "id": "a2a27577",
   "metadata": {},
   "outputs": [
    {
     "name": "stdout",
     "output_type": "stream",
     "text": [
      "{'fuchsia'}\n"
     ]
    }
   ],
   "source": [
    "print (my_colours & interesting_colours)"
   ]
  },
  {
   "cell_type": "code",
   "execution_count": 28,
   "id": "ad22a05c",
   "metadata": {},
   "outputs": [
    {
     "name": "stdout",
     "output_type": "stream",
     "text": [
      "False\n"
     ]
    }
   ],
   "source": [
    "print (\"brown\" in my_colours)"
   ]
  },
  {
   "cell_type": "code",
   "execution_count": 29,
   "id": "5ecc97f2",
   "metadata": {},
   "outputs": [
    {
     "name": "stdout",
     "output_type": "stream",
     "text": [
      "frozenset({'red', 'orange', 'green', 'fuchsia', 'purple'})\n"
     ]
    }
   ],
   "source": [
    "frozen_colours = frozenset(my_colours)\n",
    "print(frozen_colours)"
   ]
  },
  {
   "cell_type": "code",
   "execution_count": 30,
   "id": "db1b7822",
   "metadata": {},
   "outputs": [
    {
     "ename": "AttributeError",
     "evalue": "'frozenset' object has no attribute 'add'",
     "output_type": "error",
     "traceback": [
      "\u001b[31m---------------------------------------------------------------------------\u001b[39m",
      "\u001b[31mAttributeError\u001b[39m                            Traceback (most recent call last)",
      "\u001b[36mCell\u001b[39m\u001b[36m \u001b[39m\u001b[32mIn[30]\u001b[39m\u001b[32m, line 1\u001b[39m\n\u001b[32m----> \u001b[39m\u001b[32m1\u001b[39m \u001b[43mfrozen_colours\u001b[49m\u001b[43m.\u001b[49m\u001b[43madd\u001b[49m(\u001b[33m\"\u001b[39m\u001b[33mbrown\u001b[39m\u001b[33m\"\u001b[39m)\n",
      "\u001b[31mAttributeError\u001b[39m: 'frozenset' object has no attribute 'add'"
     ]
    }
   ],
   "source": [
    "frozen_colours.add(\"brown\")"
   ]
  }
 ],
 "metadata": {
  "kernelspec": {
   "display_name": "Python 3",
   "language": "python",
   "name": "python3"
  },
  "language_info": {
   "codemirror_mode": {
    "name": "ipython",
    "version": 3
   },
   "file_extension": ".py",
   "mimetype": "text/x-python",
   "name": "python",
   "nbconvert_exporter": "python",
   "pygments_lexer": "ipython3",
   "version": "3.13.2"
  }
 },
 "nbformat": 4,
 "nbformat_minor": 5
}
