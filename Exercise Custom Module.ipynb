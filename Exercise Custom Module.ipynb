{
 "cells": [
  {
   "cell_type": "markdown",
   "id": "e1782b48",
   "metadata": {},
   "source": [
    "This worksheet is designed around creating a custom Python module tailored for basic data science applications.\n",
    "\n",
    "Create a new file named DataScienceBasics.py that will contain all the required functions. Ensure you include proper docstrings for each function, explaining its purpose, parameters, and return value.\n",
    "\n",
    "1. Start by creating a function named calculate_mean in your module that takes a list of numbers as an argument and returns the mean of those numbers.\n",
    "\n",
    "2. Add a function named calculate_median to your module. This function should take a list of numbers and return the median value.\n",
    "\n",
    "3. Write a function named load_data that takes a filename (a string) as its argument. This function should read a file containing JSON data, parse it, and return the data as a list of dictionaries. Assume each line in the file is a separate JSON encoded dictionary.\n",
    "\n",
    " You can manually create a file named data.txt and in it place this content:\n",
    "\n",
    "  { \"id\": 1, \"name\": \"Alice\", \"age\": 30, \"score\": 88 }\n",
    "  { \"id\": 2, \"name\": \"Bob\", \"age\": 25, \"score\": 92 }\n",
    "  { \"id\": 3, \"name\": \"Charlie\", \"age\": 25, \"score\": 95 }\n",
    "  { \"id\": 4, \"name\": \"Diana\", \"age\": 30, \"score\": 100 }\n",
    "  { \"id\": 5, \"name\": \"Wallace\", \"age\": 31, \"score\": 50 }\n",
    "4. Create a function named filter_data that takes two arguments: the dataset (a list of dictionaries) and a lambda function. The function should return a new list containing all the items for which the lamba function returns True.\n",
    "\n",
    "5. Add a function called get_unique_values that takes the dataset and a key (string) as arguments. This function should return a set of unique values for the specified key in the dataset.\n",
    "\n",
    "6. Implement a function named transform_data that takes the dataset, a key, and a transform function. The function should apply the transform function to each value of the specified key in the dataset and return the modified dataset.\n",
    "\n",
    "7. Create a function named describe_data that takes the dataset and a key, then calculates and prints the mean, and median for the numerical data associated with the key.\n",
    "\n",
    "8. Write a function named aggregate_data that takes the dataset and a keys. This function should return a dictionary with the unique values of the first key as the keys and the sum of the corresponding values the same key.\n",
    "\n",
    "9. Create a new script and inpirt DataScienceBasics.py as dsb. Then perform the following tasks:\n",
    "\n",
    "* Define a main function and in it do the following:\n",
    "* Create a variable data and load the data from the txt file.\n",
    "* Create a new variable new_data that contains the filtered data of all records that do not have a score of 100.\n",
    "* In the same variable new_data deduct 5 points to all players.\n",
    "* Create a new variable stats that stores the mean and median of the score.\n",
    "* Print the unique player names (use new_data).\n",
    "* Print the mean and median (calculated previously).\n",
    "* Print the total number of players by their age (use new_data)\n",
    "* Make sure that main is called if the file is run directly."
   ]
  },
  {
   "cell_type": "code",
   "execution_count": 1,
   "id": "4ea08ffe",
   "metadata": {},
   "outputs": [
    {
     "ename": "ZeroDivisionError",
     "evalue": "division by zero",
     "output_type": "error",
     "traceback": [
      "\u001b[31m---------------------------------------------------------------------------\u001b[39m",
      "\u001b[31mZeroDivisionError\u001b[39m                         Traceback (most recent call last)",
      "\u001b[36mCell\u001b[39m\u001b[36m \u001b[39m\u001b[32mIn[1]\u001b[39m\u001b[32m, line 14\u001b[39m\n\u001b[32m     11\u001b[39m     \u001b[38;5;28mprint\u001b[39m (\u001b[33mf\u001b[39m\u001b[33m\"\u001b[39m\u001b[33mPlayers By Age\u001b[39m\u001b[38;5;130;01m\\n\u001b[39;00m\u001b[38;5;132;01m{\u001b[39;00mdsp.aggregate_data(new_data,\u001b[33m'\u001b[39m\u001b[33mage\u001b[39m\u001b[33m'\u001b[39m)\u001b[38;5;132;01m}\u001b[39;00m\u001b[33m\"\u001b[39m)\n\u001b[32m     13\u001b[39m \u001b[38;5;28;01mif\u001b[39;00m \u001b[34m__name__\u001b[39m == \u001b[33m\"\u001b[39m\u001b[33m__main__\u001b[39m\u001b[33m\"\u001b[39m:\n\u001b[32m---> \u001b[39m\u001b[32m14\u001b[39m     \u001b[43mmain\u001b[49m\u001b[43m(\u001b[49m\u001b[43m)\u001b[49m\n",
      "\u001b[36mCell\u001b[39m\u001b[36m \u001b[39m\u001b[32mIn[1]\u001b[39m\u001b[32m, line 7\u001b[39m, in \u001b[36mmain\u001b[39m\u001b[34m()\u001b[39m\n\u001b[32m      5\u001b[39m new_data = dsp.filter_data(data, \u001b[38;5;28;01mlambda\u001b[39;00m x:x[\u001b[33m'\u001b[39m\u001b[33mscore\u001b[39m\u001b[33m'\u001b[39m]!=\u001b[32m100\u001b[39m)\n\u001b[32m      6\u001b[39m new_data = dsp.transform_data(data, \u001b[33m'\u001b[39m\u001b[33mscore\u001b[39m\u001b[33m'\u001b[39m, \u001b[38;5;28;01mlambda\u001b[39;00m x:x-\u001b[32m5\u001b[39m)\n\u001b[32m----> \u001b[39m\u001b[32m7\u001b[39m stats = \u001b[43mdsp\u001b[49m\u001b[43m.\u001b[49m\u001b[43mdescribe_data\u001b[49m\u001b[43m(\u001b[49m\u001b[43mnew_data\u001b[49m\u001b[43m,\u001b[49m\u001b[43m \u001b[49m\u001b[33;43m'\u001b[39;49m\u001b[33;43mscore\u001b[39;49m\u001b[33;43m'\u001b[39;49m\u001b[43m)\u001b[49m\n\u001b[32m      9\u001b[39m \u001b[38;5;28mprint\u001b[39m(\u001b[33mf\u001b[39m\u001b[33m\"\u001b[39m\u001b[33mUnique Players: \u001b[39m\u001b[38;5;132;01m{\u001b[39;00mdsp.get_uniques(new_data,\u001b[38;5;250m \u001b[39m\u001b[33m'\u001b[39m\u001b[33mname\u001b[39m\u001b[33m'\u001b[39m)\u001b[38;5;132;01m}\u001b[39;00m\u001b[33m\"\u001b[39m)\n\u001b[32m     10\u001b[39m \u001b[38;5;28mprint\u001b[39m(\u001b[33mf\u001b[39m\u001b[33m\"\u001b[39m\u001b[33mScore Mean: \u001b[39m\u001b[38;5;132;01m{\u001b[39;00mstats[\u001b[32m0\u001b[39m]\u001b[38;5;132;01m}\u001b[39;00m\u001b[38;5;130;01m\\n\u001b[39;00m\u001b[33mScore Median: \u001b[39m\u001b[38;5;132;01m{\u001b[39;00mstats[\u001b[32m1\u001b[39m]\u001b[38;5;132;01m}\u001b[39;00m\u001b[33m\"\u001b[39m)\n",
      "\u001b[36mFile \u001b[39m\u001b[32mc:\\Users\\kelly\\OneDrive\\Documents\\Programming for Data Science\\GIT - Modules\\DataScienceBasics.py:95\u001b[39m, in \u001b[36mdescribe_data\u001b[39m\u001b[34m(dataset, key)\u001b[39m\n\u001b[32m     84\u001b[39m \u001b[38;5;250m\u001b[39m\u001b[33;03m\"\"\"\u001b[39;00m\n\u001b[32m     85\u001b[39m \u001b[33;03mCalculate mean and median for a specific key in a dataset.\u001b[39;00m\n\u001b[32m     86\u001b[39m \u001b[33;03m\u001b[39;00m\n\u001b[32m   (...)\u001b[39m\u001b[32m     92\u001b[39m \u001b[33;03mtuple: A tuple containing the mean and median of the values under the specified key.\u001b[39;00m\n\u001b[32m     93\u001b[39m \u001b[33;03m\"\"\"\u001b[39;00m\n\u001b[32m     94\u001b[39m values = [item[key] \u001b[38;5;28;01mfor\u001b[39;00m item \u001b[38;5;129;01min\u001b[39;00m dataset]\n\u001b[32m---> \u001b[39m\u001b[32m95\u001b[39m \u001b[38;5;28;01mreturn\u001b[39;00m \u001b[43mcalculate_mean\u001b[49m\u001b[43m(\u001b[49m\u001b[43mvalues\u001b[49m\u001b[43m)\u001b[49m, calculate_median(values)\n",
      "\u001b[36mFile \u001b[39m\u001b[32mc:\\Users\\kelly\\OneDrive\\Documents\\Programming for Data Science\\GIT - Modules\\DataScienceBasics.py:13\u001b[39m, in \u001b[36mcalculate_mean\u001b[39m\u001b[34m(nums)\u001b[39m\n\u001b[32m      3\u001b[39m \u001b[38;5;28;01mdef\u001b[39;00m\u001b[38;5;250m \u001b[39m\u001b[34mcalculate_mean\u001b[39m(nums):\n\u001b[32m      4\u001b[39m \u001b[38;5;250m    \u001b[39m\u001b[33;03m\"\"\"\u001b[39;00m\n\u001b[32m      5\u001b[39m \u001b[33;03m    Calculate the mean of a list of numbers.\u001b[39;00m\n\u001b[32m      6\u001b[39m \u001b[33;03m    \u001b[39;00m\n\u001b[32m   (...)\u001b[39m\u001b[32m     11\u001b[39m \u001b[33;03m    float: The mean of the numbers.\u001b[39;00m\n\u001b[32m     12\u001b[39m \u001b[33;03m    \"\"\"\u001b[39;00m\n\u001b[32m---> \u001b[39m\u001b[32m13\u001b[39m     \u001b[38;5;28;01mreturn\u001b[39;00m \u001b[38;5;28;43msum\u001b[39;49m\u001b[43m(\u001b[49m\u001b[43mnums\u001b[49m\u001b[43m)\u001b[49m\u001b[43m \u001b[49m\u001b[43m/\u001b[49m\u001b[43m \u001b[49m\u001b[38;5;28;43mlen\u001b[39;49m\u001b[43m(\u001b[49m\u001b[43mnums\u001b[49m\u001b[43m)\u001b[49m\n",
      "\u001b[31mZeroDivisionError\u001b[39m: division by zero"
     ]
    }
   ],
   "source": [
    "import DataScienceBasics as dsp\n",
    "\n",
    "def main():\n",
    "    data = dsp.load_data('data.txt')\n",
    "    new_data = dsp.filter_data(data, lambda x:x['score']!=100)\n",
    "    new_data = dsp.transform_data(data, 'score', lambda x:x-5)\n",
    "    stats = dsp.describe_data(new_data, 'score')\n",
    "\n",
    "    print(f\"Unique Players: {dsp.get_uniques(new_data, 'name')}\")\n",
    "    print(f\"Score Mean: {stats[0]}\\nScore Median: {stats[1]}\")\n",
    "    print (f\"Players By Age\\n{dsp.aggregate_data(new_data,'age')}\")\n",
    "\n",
    "if __name__ == \"__main__\":\n",
    "    main()"
   ]
  }
 ],
 "metadata": {
  "kernelspec": {
   "display_name": "Python 3",
   "language": "python",
   "name": "python3"
  },
  "language_info": {
   "codemirror_mode": {
    "name": "ipython",
    "version": 3
   },
   "file_extension": ".py",
   "mimetype": "text/x-python",
   "name": "python",
   "nbconvert_exporter": "python",
   "pygments_lexer": "ipython3",
   "version": "3.13.2"
  }
 },
 "nbformat": 4,
 "nbformat_minor": 5
}
