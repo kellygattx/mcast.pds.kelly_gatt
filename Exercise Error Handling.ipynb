{
 "cells": [
  {
   "cell_type": "markdown",
   "id": "e49e819c",
   "metadata": {},
   "source": [
    "1. Write a function that asks the user for an integer input and prints it. Use try/except to catch a ValueError if the input is not an integer, printing an error message instead.\n",
    "\n",
    "2. Modify the previous function to also handle a KeyboardInterrupt exception, which occurs when the user cancels the input, printing a different error message.\n",
    "\n",
    "3. Extend the function from question 1 to include else and finally blocks, where else prints a success message and finally always prints a completion message.\n",
    "\n",
    "4. Write a function that raises an exception with the message Number is negative if a user enters a negative number. If the exception is raised, print it.\n",
    "\n",
    "5. Write a function that attempts to open a file provided by the user and print its contents. Use error handling to catch a FileNotFoundError and print a custom error message. Ensure the file is properly closed in a finally block if it was opened successfully.\n",
    "\n",
    "6. Given a list of mixed data types, write a function that prints each item if it's an integer. Use error handling to skip any item that raises a TypeError when cast to an integer.\n",
    "\n",
    "7. Write a function that takes a list of numbers and returns the sum. If the list contains a non-numeric type, catch the exception that would be raised by the sum function and return None instead.\n",
    "\n",
    "8. Write a function that divides two numbers provided by the user, handling division by zero and non-numeric input exceptions. It should return the division result or an appropriate error message.\n",
    "\n",
    "9. Write a script that iterates over a list of URLs, attempting to fetch the content of each URL using urllib.request.urlopen. Use error handling to print a message for each URL that cannot be fetched, continuing with the next URL in the list.\n",
    "\n",
    "10. Write a function that takes a dictionary and a list of keys, attempting to print the value for each key. Use error handling to catch and print a message for any key that doesn't exist in the dictionary, without stopping the script.\n",
    "\n",
    "11. Write a script that uses the datetime module to parse a list of date strings into datetime objects. Use error handling to catch and print an error message for any strings that are in an incorrect format, skipping over them."
   ]
  },
  {
   "cell_type": "code",
   "execution_count": 1,
   "id": "ca22d518",
   "metadata": {},
   "outputs": [
    {
     "name": "stdout",
     "output_type": "stream",
     "text": [
      "The value inputed is not an integer\n"
     ]
    }
   ],
   "source": [
    "def print_num():\n",
    "    try:\n",
    "        num = int(input(\"Enter a number\"))\n",
    "        print(f\"You entered {num}\")\n",
    "    except ValueError:\n",
    "        print(\"The value inputed is not an integer\")\n",
    "\n",
    "print_num()"
   ]
  },
  {
   "cell_type": "code",
   "execution_count": 2,
   "id": "824ee73b",
   "metadata": {},
   "outputs": [
    {
     "name": "stdout",
     "output_type": "stream",
     "text": [
      "You entered 3\n"
     ]
    }
   ],
   "source": [
    "def print_num():\n",
    "    try:\n",
    "        num = int(input(\"Enter a number\"))\n",
    "        print(f\"You entered {num}\")\n",
    "    except ValueError:\n",
    "        print(\"The value inputed is not an integer!\")\n",
    "    except KeyboardInterrupt:\n",
    "        print(\"The value inputed is not an integer\")\n",
    "\n",
    "print_num()"
   ]
  },
  {
   "cell_type": "code",
   "execution_count": 3,
   "id": "aa67342f",
   "metadata": {},
   "outputs": [
    {
     "name": "stdout",
     "output_type": "stream",
     "text": [
      "The value inputed is not an integer\n",
      "Done\n"
     ]
    }
   ],
   "source": [
    "def print_num():\n",
    "    try:\n",
    "        num = int(input(\"Enter a number\"))\n",
    "    except ValueError:\n",
    "        print(\"The value inputed is not an integer\")\n",
    "    else:\n",
    "        print(f\"You entered {num}\")\n",
    "    finally:\n",
    "        print(\"Done\")\n",
    "\n",
    "print_num()"
   ]
  },
  {
   "cell_type": "code",
   "execution_count": 5,
   "id": "c05688f8",
   "metadata": {},
   "outputs": [
    {
     "name": "stdout",
     "output_type": "stream",
     "text": [
      "You entered number 4\n"
     ]
    }
   ],
   "source": [
    "def check_positive():\n",
    "    try:\n",
    "        num = int(input(\"Enter a positive integer:\"))\n",
    "        if num <0:\n",
    "            raise Exception(\"The number is negative\")\n",
    "        print(f\"You entered number {num}\")\n",
    "    except Exception as e:\n",
    "        print(e)\n",
    "\n",
    "check_positive()"
   ]
  },
  {
   "cell_type": "code",
   "execution_count": 6,
   "id": "81715369",
   "metadata": {},
   "outputs": [
    {
     "name": "stdout",
     "output_type": "stream",
     "text": [
      "Error: File not found\n"
     ]
    }
   ],
   "source": [
    "def read_file_content():\n",
    "    file = None\n",
    "    try:\n",
    "        filename = input(\"Enter filename\")\n",
    "        with open(filename, \"r\") as file:\n",
    "            print(file.read())\n",
    "    except FileNotFoundError:\n",
    "        print(\"Error: File not found\")\n",
    "    finally:\n",
    "        if file:\n",
    "            file.close()\n",
    "\n",
    "read_file_content()"
   ]
  },
  {
   "cell_type": "code",
   "execution_count": 7,
   "id": "a78389d1",
   "metadata": {},
   "outputs": [
    {
     "name": "stdout",
     "output_type": "stream",
     "text": [
      "7\n",
      "2\n",
      "9\n"
     ]
    }
   ],
   "source": [
    "def print_integers(data):\n",
    "    for item in data:\n",
    "        try:\n",
    "            print(int(item))\n",
    "        except ValueError:\n",
    "            continue\n",
    "\n",
    "print_integers([\"7\", \"2\", \"k\", 9])"
   ]
  },
  {
   "cell_type": "code",
   "execution_count": 8,
   "id": "eba4766e",
   "metadata": {},
   "outputs": [
    {
     "name": "stdout",
     "output_type": "stream",
     "text": [
      "None\n"
     ]
    }
   ],
   "source": [
    "def sum_numbers(nums):\n",
    "    try:\n",
    "        return sum(nums)\n",
    "    except TypeError:\n",
    "        return None\n",
    "    \n",
    "print(sum_numbers([5,9, \"kelly\"]))"
   ]
  },
  {
   "cell_type": "code",
   "execution_count": 9,
   "id": "6547589c",
   "metadata": {},
   "outputs": [
    {
     "name": "stdout",
     "output_type": "stream",
     "text": [
      "Result 0.6666666666666666\n"
     ]
    }
   ],
   "source": [
    "def safe_divide():\n",
    "    try:\n",
    "        a = float(input(\"Enter numerator: \"))\n",
    "        b = float(input(\"Enter denominator: \"))\n",
    "        result = a / b\n",
    "    except ZeroDivisionError:\n",
    "        print(\"Error: Cannot divide by zero.\")\n",
    "    except ValueError:\n",
    "        print(\"Error: Non-numeric value\")\n",
    "    else:\n",
    "        print(f\"Result {result}\")\n",
    "\n",
    "safe_divide()"
   ]
  },
  {
   "cell_type": "code",
   "execution_count": 10,
   "id": "d0e4e48a",
   "metadata": {},
   "outputs": [
    {
     "name": "stdout",
     "output_type": "stream",
     "text": [
      "b'<!doctype html>\\n<html>\\n<head>\\n    <title>Example Domain</title>\\n\\n    <meta charset=\"utf-8\" />\\n    <meta http-equiv=\"Content-type\" content=\"text/html; charset=utf-8\" />\\n    <meta name=\"viewport\" content=\"width=device-width, initial-scale=1\" />\\n    <style type=\"text/css\">\\n    body {\\n        background-color: #f0f0f2;\\n        margin: 0;\\n        padding: 0;\\n        font-family: -apple-system, system-ui, BlinkMacSystemFont, \"Segoe UI\", \"Open Sans\", \"Helvetica Neue\", Helvetica, Arial, sans-serif;\\n        \\n    }\\n    div {\\n        width: 600px;\\n        margin: 5em auto;\\n        padding: 2em;\\n        background-color: #fdfdff;\\n        border-radius: 0.5em;\\n        box-shadow: 2px 3px 7px 2px rgba(0,0,0,0.02);\\n    }\\n    a:link, a:visited {\\n        color: #38488f;\\n        text-decoration: none;\\n    }\\n    @media (max-width: 700px) {\\n        div {\\n            margin: 0 auto;\\n            width: auto;\\n        }\\n    }\\n    </style>    \\n</head>\\n\\n<body>\\n<div>\\n    <h1>Example Domain</h1>\\n    <p>This domain is for use in illustrative examples in documents. You may use this\\n    domain in literature without prior coordination or asking for permission.</p>\\n    <p><a href=\"https://www.iana.org/domains/example\">More information...</a></p>\\n</div>\\n</body>\\n</html>\\n'\n",
      "b'<!doctype html><html itemscope=\"\" itemtype=\"http://schema.org/WebPage\" lang=\"mt\"><head><meta content=\"text/html; charset=UTF-8\" http-equiv=\"Content-Type\"><meta content=\"/images/branding/googleg/1x/googleg_standard_color_128dp.png\" itemprop=\"image\"><title>Google</title><script nonce=\"Rmiwyl8iJWZpziOZfzZ8zQ\">(function(){var _g={kEI:\\'orMlaMyyGKaWxc8Pje-UsAw\\',kEXPI:\\'0,202791,49,609875,2887590,1079,538661,78813,16105,344796,226411,12048,8861,2413,20743,19568,5241682,193,36812449,25228681,46383,91885,79280,6754,23879,9139,4599,328,6226,10417,53748,15049,15634,101599,3095,2295,624,1203,2895,1210,353,18880,3118,5849,4617,5774,4309,2064,2602,6053,12583,4719,11805,2808,453,6445,13483,570,2251,1938,7349,658,5025,3605,1082,7440,474,2352,1798,4625,1516,2064,1452,4129,1130,6,594,1010,827,5,3439,131,2,1,2,2,2,3,1453,863,649,4225,3,1240,2318,943,243,2,65,312,623,3,984,486,1,617,2165,2829,266,5,772,1925,119,528,597,622,1,756,979,1546,182,2,217,2285,556,4,518,524,16,72,7,1243,492,211,899,64,94,1579,714,2567,102,4331,138,145,835,1411,171,379,370,1994,4,326,164,185,764,425,87,7,129,226,36,1365,97,360,15,2,4,1,52,269,20,6,212,224,509,277,264,305,206,762,646,358,858,122,8,325,378,51,96,46,130,57,178,471,912,18,526,60,84,7,154,10,832,832,50,810,11,55,9,643,344,206,217,361,154,6,14,119,99,315,9,72,16,787,392,89,33,1297,79,488,668,159,3,2,2,2,1278,52,1,183,34,430,161,26,417,161,1,2,552,151,363,175,668,24,100,45,76,328,6,298,95,479,1,90,2,173,502,87,30,117,1472,183,1293,3,20868211,375834,4,28852,18,5314,3654,4,1214,1183,5,2008,984,4,2960,3,1308,2610,3,412,15,2536,3070,112,163,77,356,393,185,8498313,1940,136971\\',kBL:\\'BBXY\\',kOPI:89978449};(function(){var a;((a=window.google)==null?0:a.stvsc)?google.kEI=_g.kEI:window.google=_g;}).call(this);})();(function(){google.sn=\\'webhp\\';google.kHL=\\'mt\\';})();(function(){\\nvar g=this||self;function k(){return window.google&&window.google.kOPI||null};var l,m=[];function n(a){for(var b;a&&(!a.getAttribute||!(b=a.getAttribute(\"eid\")));)a=a.parentNode;return b||l}function p(a){for(var b=null;a&&(!a.getAttribute||!(b=a.getAttribute(\"leid\")));)a=a.parentNode;return b}function q(a){/^http:/i.test(a)&&window.location.protocol===\"https:\"&&(google.ml&&google.ml(Error(\"a\"),!1,{src:a,glmm:1}),a=\"\");return a}\\nfunction r(a,b,d,c,h){var e=\"\";b.search(\"&ei=\")===-1&&(e=\"&ei=\"+n(c),b.search(\"&lei=\")===-1&&(c=p(c))&&(e+=\"&lei=\"+c));var f=b.search(\"&cshid=\")===-1&&a!==\"slh\";c=\"&zx=\"+Date.now().toString();g._cshid&&f&&(c+=\"&cshid=\"+g._cshid);(d=d())&&(c+=\"&opi=\"+d);return\"/\"+(h||\"gen_204\")+\"?atyp=i&ct=\"+String(a)+\"&cad=\"+(b+e+c)};l=google.kEI;google.getEI=n;google.getLEI=p;google.ml=function(){return null};google.log=function(a,b,d,c,h,e){e=e===void 0?k:e;d||(d=r(a,b,e,c,h));if(d=q(d)){a=new Image;var f=m.length;m[f]=a;a.onerror=a.onload=a.onabort=function(){delete m[f]};a.src=d}};google.logUrl=function(a,b){b=b===void 0?k:b;return r(\"\",a,b)};}).call(this);(function(){google.y={};google.sy=[];var d;(d=google).x||(d.x=function(a,b){if(a)var c=a.id;else{do c=Math.random();while(google.y[c])}google.y[c]=[a,b];return!1});var e;(e=google).sx||(e.sx=function(a){google.sy.push(a)});google.lm=[];var f;(f=google).plm||(f.plm=function(a){google.lm.push.apply(google.lm,a)});google.lq=[];var g;(g=google).load||(g.load=function(a,b,c){google.lq.push([[a],b,c])});var h;(h=google).loadAll||(h.loadAll=function(a,b){google.lq.push([a,b])});google.bx=!1;var k;(k=google).lx||(k.lx=function(){});var l=[],m;(m=google).fce||(m.fce=function(a,b,c,n){l.push([a,b,c,n])});google.qce=l;}).call(this);google.f={};(function(){\\ndocument.documentElement.addEventListener(\"submit\",function(b){var a;if(a=b.target){var c=a.getAttribute(\"data-submitfalse\");a=c===\"1\"||c===\"q\"&&!a.elements.q.value?!0:!1}else a=!1;a&&(b.preventDefault(),b.stopPropagation())},!0);document.documentElement.addEventListener(\"click\",function(b){var a;a:{for(a=b.target;a&&a!==document.documentElement;a=a.parentElement)if(a.tagName===\"A\"){a=a.getAttribute(\"data-nohref\")===\"1\";break a}a=!1}a&&b.preventDefault()},!0);}).call(this);</script><style>#gbar,#guser{font-size:13px;padding-top:1px !important;}#gbar{height:22px}#guser{padding-bottom:7px !important;text-align:right}.gbh,.gbd{border-top:1px solid #c9d7f1;font-size:1px}.gbh{height:0;position:absolute;top:24px;width:100%}@media all{.gb1{height:22px;margin-right:.5em;vertical-align:top}#gbar{float:left}}a.gb1,a.gb4{text-decoration:underline !important}a.gb1,a.gb4{color:#00c !important}.gbi .gb4{color:#dd8e27 !important}.gbf .gb4{color:#900 !important}\\n</style><style>body,td,a,p,.h{font-family:sans-serif}body{margin:0;overflow-y:scroll}#gog{padding:3px 8px 0}td{line-height:.8em}.gac_m td{line-height:17px}form{margin-bottom:20px}.h{color:#1967d2}em{font-weight:bold;font-style:normal}.lst{height:25px;width:496px}.gsfi,.lst{font:18px sans-serif}.gsfs{font:17px sans-serif}.ds{display:inline-box;display:inline-block;margin:3px 0 4px;margin-left:4px}input{font-family:inherit}body{background:#fff;color:#000}a{color:#681da8;text-decoration:none}a:hover,a:active{text-decoration:underline}.fl a{color:#1967d2}a:visited{color:#681da8}.sblc{padding-top:5px}.sblc a{display:block;margin:2px 0;margin-left:13px;font-size:11px}.lsbb{background:#f8f9fa;border:solid 1px;border-color:#dadce0 #70757a #70757a #dadce0;height:30px}.lsbb{display:block}#WqQANb a{display:inline-block;margin:0 12px}.lsb{background:url(/images/nav_logo229.png) 0 -261px repeat-x;color:#000;border:none;cursor:pointer;height:30px;margin:0;outline:0;font:15px sans-serif;vertical-align:top}.lsb:active{background:#dadce0}.lst:focus{outline:none}.Ucigb{width:458px}</style><script nonce=\"Rmiwyl8iJWZpziOZfzZ8zQ\">(function(){window.google.erd={jsr:1,bv:2220,de:true,dpf:\\'86h435qj3-onJ5yVEaoKI3YCUtG3moSYc0KGv8rZQYA\\'};\\nvar g=this||self;var k,l=(k=g.mei)!=null?k:1,m,p=(m=g.diel)!=null?m:0,q,r=(q=g.sdo)!=null?q:!0,t=0,u,w=google.erd,x=w.jsr;google.ml=function(a,b,d,n,e){e=e===void 0?2:e;b&&(u=a&&a.message);d===void 0&&(d={});d.cad=\"ple_\"+google.ple+\".aple_\"+google.aple;if(google.dl)return google.dl(a,e,d,!0),null;b=d;if(x<0){window.console&&console.error(a,b);if(x===-2)throw a;b=!1}else b=!a||!a.message||a.message===\"Error loading script\"||t>=l&&!n?!1:!0;if(!b)return null;t++;d=d||{};b=encodeURIComponent;var c=\"/gen_204?atyp=i&ei=\"+b(google.kEI);google.kEXPI&&(c+=\"&jexpid=\"+b(google.kEXPI));c+=\"&srcpg=\"+b(google.sn)+\"&jsr=\"+b(w.jsr)+\\n\"&bver=\"+b(w.bv);w.dpf&&(c+=\"&dpf=\"+b(w.dpf));var f=a.lineNumber;f!==void 0&&(c+=\"&line=\"+f);var h=a.fileName;h&&(h.indexOf(\"-extension:/\")>0&&(e=3),c+=\"&script=\"+b(h),f&&h===window.location.href&&(f=document.documentElement.outerHTML.split(\"\\\\n\")[f],c+=\"&cad=\"+b(f?f.substring(0,300):\"No script found.\")));google.ple&&google.ple===1&&(e=2);c+=\"&jsel=\"+e;for(var v in d)c+=\"&\",c+=b(v),c+=\"=\",c+=b(d[v]);c=c+\"&emsg=\"+b(a.name+\": \"+a.message);c=c+\"&jsst=\"+b(a.stack||\"N/A\");c.length>=12288&&(c=c.substr(0,12288));a=c;n||google.log(0,\"\",a);return a};window.onerror=function(a,b,d,n,e){u!==a&&(a=e instanceof Error?e:Error(a),d===void 0||\"lineNumber\"in a||(a.lineNumber=d),b===void 0||\"fileName\"in a||(a.fileName=b),google.ml(a,!1,void 0,!1,a.name===\"SyntaxError\"||a.message.substring(0,11)===\"SyntaxError\"||a.message.indexOf(\"Script error\")!==-1?3:p));u=null;r&&t>=l&&(window.onerror=null)};})();</script></head><body bgcolor=\"#fff\"><script nonce=\"Rmiwyl8iJWZpziOZfzZ8zQ\">(function(){var src=\\'/images/nav_logo229.png\\';var iesg=false;document.body.onload = function(){window.n && window.n();if (document.images){new Image().src=src;}\\nif (!iesg){document.f&&document.f.q.focus();document.gbqf&&document.gbqf.q.focus();}\\n}\\n})();</script><div id=\"mngb\"><div id=gbar><nobr><b class=gb1>Fittex</b> <a class=gb1 href=\"https://www.google.com/imghp?hl=mt&tab=wi\">Stampi</a> <a class=gb1 href=\"https://maps.google.com.mt/maps?hl=mt&tab=wl\">Mapep</a> <a class=gb1 href=\"https://play.google.com/?hl=mt&tab=w8\">Play</a> <a class=gb1 href=\"https://news.google.com/?tab=wn\">A&#295;barijiet</a> <a class=gb1 href=\"https://mail.google.com/mail/?tab=wm\">Gmail</a> <a class=gb1 href=\"https://drive.google.com/?tab=wo\">Drive</a> <a class=gb1 href=\"https://calendar.google.com/calendar?tab=wc\">Kalendarju</a> <a class=gb1 style=\"text-decoration:none\" href=\"https://www.google.com.mt/intl/en/about/products?tab=wh\"><u>Iktar</u> &raquo;</a></nobr></div><div id=guser width=100%><nobr><span id=gbn class=gbi></span><span id=gbf class=gbf></span><span id=gbe></span><a href=\"http://www.google.com.mt/history/optout?hl=mt\" class=gb4>Storja ta\\' dak li fittixt dwaru</a> | <a  href=\"/preferences?hl=mt\" class=gb4>Preferenzi</a> | <a target=_top id=gb_70 href=\"https://accounts.google.com/ServiceLogin?hl=mt&passive=true&continue=https://www.google.com/&ec=GAZAAQ\" class=gb4>Id&#295;ol fil-kont tieg&#295;ek</a></nobr></div><div class=gbh style=left:0></div><div class=gbh style=right:0></div></div><center><br clear=\"all\" id=\"lgpd\"><div id=\"XjhHGf\"><img alt=\"Google\" height=\"92\" src=\"/images/branding/googlelogo/1x/googlelogo_white_background_color_272x92dp.png\" style=\"padding:28px 0 14px\" width=\"272\" id=\"hplogo\"><br><br></div><form action=\"/search\" name=\"f\"><table cellpadding=\"0\" cellspacing=\"0\"><tr valign=\"top\"><td width=\"25%\">&nbsp;</td><td align=\"center\" nowrap=\"\"><input name=\"ie\" value=\"ISO-8859-1\" type=\"hidden\"><input value=\"mt\" name=\"hl\" type=\"hidden\"><input name=\"source\" type=\"hidden\" value=\"hp\"><input name=\"biw\" type=\"hidden\"><input name=\"bih\" type=\"hidden\"><div class=\"ds\" style=\"height:32px;margin:4px 0\"><div style=\"position:relative;zoom:1\"><input class=\"lst Ucigb\" style=\"margin:0;padding:5px 8px 0 6px;vertical-align:top;color:#000;padding-right:38px\" value=\"\" title=\"Fittex bil-Google\" maxlength=\"2048\" name=\"q\" size=\"57\"><img src=\"/textinputassistant/tia.png\" style=\"position:absolute;cursor:pointer;right:5px;top:4px;z-index:300\" data-script-url=\"/textinputassistant/13/mt_tia.js\" id=\"tsuid_orMlaMyyGKaWxc8Pje-UsAw_1\" alt=\"\" height=\"23\" width=\"27\"><script nonce=\"Rmiwyl8iJWZpziOZfzZ8zQ\">(function(){var id=\\'tsuid_orMlaMyyGKaWxc8Pje-UsAw_1\\';document.getElementById(id).onclick = function(){var s = document.createElement(\\'script\\');s.src = this.getAttribute(\\'data-script-url\\');document.body.appendChild(s);};})();</script></div></div><br style=\"line-height:0\"><span class=\"ds\"><span class=\"lsbb\"><input class=\"lsb\" value=\"Fittex bil-Google\" name=\"btnG\" type=\"submit\"></span></span><span class=\"ds\"><span class=\"lsbb\"><input class=\"lsb\" id=\"tsuid_orMlaMyyGKaWxc8Pje-UsAw_2\" value=\"Inhossni Xxurtjat\" name=\"btnI\" type=\"submit\"><script nonce=\"Rmiwyl8iJWZpziOZfzZ8zQ\">(function(){var id=\\'tsuid_orMlaMyyGKaWxc8Pje-UsAw_2\\';document.getElementById(id).onclick = function(){if (this.form.q.value){this.checked = 1;if (this.form.iflsig)this.form.iflsig.disabled = false;}\\nelse top.location=\\'/doodles/\\';};})();</script><input value=\"ACkRmUkAAAAAaCXBsmIgXADTZ9BDYKZLXAbzLPo-3tJR\" name=\"iflsig\" type=\"hidden\"></span></span></td><td class=\"fl sblc\" align=\"left\" nowrap=\"\" width=\"25%\"><a href=\"/advanced_search?hl=mt&amp;authuser=0\">Advanced search</a></td></tr></table><input id=\"gbv\" name=\"gbv\" type=\"hidden\" value=\"1\"><script nonce=\"Rmiwyl8iJWZpziOZfzZ8zQ\">(function(){var a,b=\"1\";if(document&&document.getElementById)if(typeof XMLHttpRequest!=\"undefined\")b=\"2\";else if(typeof ActiveXObject!=\"undefined\"){var c,d,e=[\"MSXML2.XMLHTTP.6.0\",\"MSXML2.XMLHTTP.3.0\",\"MSXML2.XMLHTTP\",\"Microsoft.XMLHTTP\"];for(c=0;d=e[c++];)try{new ActiveXObject(d),b=\"2\"}catch(h){}}a=b;if(a==\"2\"&&location.search.indexOf(\"&gbv=2\")==-1){var f=google.gbvu,g=document.getElementById(\"gbv\");g&&(g.value=a);f&&window.setTimeout(function(){location.href=f},0)};}).call(this);</script></form><div style=\"font-size:83%;min-height:3.5em\"><br><div id=\"gws-output-pages-elements-homepage_additional_languages__als\"><style>#gws-output-pages-elements-homepage_additional_languages__als{font-size:small;margin-bottom:24px}#SIvCob{color:#474747;display:inline-block;line-height:28px;}#SIvCob a{padding:0 3px;}.H6sW5{display:inline-block;margin:0 2px;white-space:nowrap}.z4hgWe{display:inline-block;margin:0 2px}</style><div id=\"SIvCob\">Google offered in:  <a href=\"https://www.google.com/setprefs?sig=0_PcPOY6YOx_tPW-LsnKllG6Td9vc%3D&amp;hl=en&amp;source=homepage&amp;sa=X&amp;ved=0ahUKEwjMi4PClKWNAxUmS_EDHY03BcYQ2ZgBCAY\">English</a>  </div></div></div><span id=\"footer\"><div style=\"font-size:10pt\"><div style=\"margin:19px auto;text-align:center\" id=\"WqQANb\"><a href=\"/intl/mt/ads/\">Advertising</a><a href=\"/intl/mt/about.html\">Dak kollu fuq Google</a><a href=\"https://www.google.com/setprefdomain?prefdom=MT&amp;prev=https://www.google.com.mt/&amp;sig=K_xEbDwk2ylA0fD_tNNEUafwvCTvM%3D\">Google.com.mt</a></div></div><p style=\"font-size:8pt;color:#70757a\">&copy; 2025</p></span></center><script nonce=\"Rmiwyl8iJWZpziOZfzZ8zQ\">(function(){window.google.cdo={height:757,width:1440};(function(){var a=window.innerWidth,b=window.innerHeight;if(!a||!b){var c=window.document,d=c.compatMode==\"CSS1Compat\"?c.documentElement:c.body;a=d.clientWidth;b=d.clientHeight}if(a&&b&&(a!=google.cdo.width||b!=google.cdo.height)){var e=google,f=e.log,g=\"/client_204?&atyp=i&biw=\"+a+\"&bih=\"+b+\"&ei=\"+google.kEI,h=\"\",k=window.google&&window.google.kOPI||null;k&&(h+=\"&opi=\"+k);f.call(e,\"\",\"\",g+h)};}).call(this);})();(function(){google.xjs={basecomb:\\'/xjs/_/js/k\\\\x3dxjs.hp.en.kXGYpFwQiS8.es5.O/ck\\\\x3dxjs.hp.6iaKn8lr7F4.L.X.O/am\\\\x3dAAAAAAAQAAAAAAAAAAAAAAAAAAAAAAAAAAAAgBIYBAEAAEAADAAAAAAAAEgAAAkAIAAAAqUIAOBAAACgBYAIEAAGCAAACAAAAAAAAAACAACAgAAACAAAAAQAAAAAgPA4IAAAAAGxABAAAADEIw/d\\\\x3d1/ed\\\\x3d1/dg\\\\x3d0/ujg\\\\x3d1/rs\\\\x3dACT90oEWKJevBYmEmqfgOAztRnVw53h3mw\\',basecss:\\'/xjs/_/ss/k\\\\x3dxjs.hp.6iaKn8lr7F4.L.X.O/am\\\\x3dAAAAAAAQAAAAAAAAAAAAAAAAAAAAAAAAAAAAgBIYAAEAAEAAAAAAAAAAAEAAAAkAIAAAAqUAAAAAAACgBYAIEAAGCAAACAAAAAAAAAACAACAgAAACAAAAAQAAAAAAAAAAAAAAACB/rs\\\\x3dACT90oHMSZv4MIG2nCDxgg3lvUL1OZ0wzQ\\',basejs:\\'/xjs/_/js/k\\\\x3dxjs.hp.en.kXGYpFwQiS8.es5.O/am\\\\x3dAAAAAAAAAAAAAAAAAAAAAAAAAAAAAAAAAAAAAAAABAAAAAAADAAAAAAAAEgAAAkAAAAAAAAIAOBAAAAgBQAAAAAGAAAAAAAAAAAAAAAAAAAAAAAAAAAAAAAAAAAAgPA4IAAAAAGxABAAAADEIw/dg\\\\x3d0/rs\\\\x3dACT90oEiDwn11hXrq5ljg3M5j3M4a0l6GA\\',excm:[]};})();(function(){var u=\\'/xjs/_/js/k\\\\x3dxjs.hp.en.kXGYpFwQiS8.es5.O/am\\\\x3dAAAAAAAAAAAAAAAAAAAAAAAAAAAAAAAAAAAAAAAABAAAAAAADAAAAAAAAEgAAAkAAAAAAAAIAOBAAAAgBQAAAAAGAAAAAAAAAAAAAAAAAAAAAAAAAAAAAAAAAAAAgPA4IAAAAAGxABAAAADEIw/d\\\\x3d1/ed\\\\x3d1/dg\\\\x3d3/rs\\\\x3dACT90oEiDwn11hXrq5ljg3M5j3M4a0l6GA/m\\\\x3dd\\';var st=1;var amd=1000;var mmd=0;var pod=true;var pop=true;var povp=false;var fp=\\'\\';var dt=0;var bi=false;\\nvar e=this||self;function f(){var b,a,d;if(a=b=(a=window.google)==null?void 0:(d=a.ia)==null?void 0:d.r.B2Jtyd)a=b.m,a=a===1||a===5;return a&&b.cbfd!=null&&b.cbvi!=null?b:void 0};function g(){var b=[u];if(!google.dp){for(var a=0;a<b.length;a++){var d=b[a],c=document.createElement(\"link\");c.as=\"script\";c.href=d;c.rel=\"preload\";document.body.appendChild(c)}google.dp=!0}};google.ps===void 0&&(google.ps=[]);function h(b){var a=function(){};google.lx=google.stvsc?a:function(){k(b);google.lx=a};google.bx||google.lx()}function l(b,a){a&&(b.src=a);fp&&(b.fetchPriority=fp);var d=b.onload;b.onload=function(c){d&&d(c);google.ps=google.ps.filter(function(G){return b!==G})};google.ps.push(b);document.body.appendChild(b)}google.as=l;function k(b){google.timers&&google.timers.load&&google.tick&&google.tick(\"load\",\"xjsls\");var a=document.createElement(\"script\");a.onerror=function(){google.ple=1};a.onload=function(){google.ple=0};google.xjsus=void 0;l(a,b);google.aple=-1;google.dp=!0};function m(b){var a=b.getAttribute(\"jscontroller\");return(a===\"UBXHI\"||a===\"R3fhkb\"||a===\"TSZEqd\")&&b.hasAttribute(\"data-src\")}function n(){for(var b=document.getElementsByTagName(\"img\"),a=0,d=b.length;a<d;a++){var c=b[a];if(c.hasAttribute(\"data-lzy_\")&&Number(c.getAttribute(\"data-atf\"))&1&&!m(c))return!0}return!1}for(var p=document.getElementsByTagName(\"img\"),q=0,r=p.length;q<r;++q){var t=p[q];Number(t.getAttribute(\"data-atf\"))&1&&m(t)&&(t.src=t.getAttribute(\"data-src\"))};var w,x,y,z,A,B,C,D,E,F;function H(){google.xjsu=u;e._F_jsUrl=u;A=function(){dt?I():h(u)};w=!1;x=(st===1||st===3)&&!!google.caft&&!n();y=f();z=(st===2||st===3)&&!!y&&!n();B=pod;C=pop;D=povp;E=pop&&document.prerendering||povp&&document.hidden;F=D?\"visibilitychange\":\"prerenderingchange\"}function J(){w||x||z||E||(A(),w=!0)}\\nsetTimeout(function(){google&&google.tick&&google.timers&&google.timers.load&&google.tick(\"load\",\"xjspls\");H();if(x||z||E){if(x){var b=function(){x=!1;J()};google.caft(b);window.setTimeout(b,amd)}z&&(b=function(){z=!1;J()},y.cbvi.push(b),window.setTimeout(b,mmd));if(E){var a=function(){(D?document.hidden:document.prerendering)||(E=!1,J(),document.removeEventListener(F,a))};document.addEventListener(F,a,{passive:!0})}if(B||C||D)w||g()}else A()},0);function I(){var b=dt,a=u;if(bi){for(var d=performance.now(),c=performance.now();c-d<b;)c=performance.now();h(a)}else window.setTimeout(function(){h(a)},b)};})();window._ = window._ || {};window._DumpException = _._DumpException = function(e){throw e;};window._s = window._s || {};_s._DumpException = _._DumpException;window._qs = window._qs || {};_qs._DumpException = _._DumpException;(function(){var t=[0,16384,0,0,0,0,0,100966400,8388868,3145984,81920,1441792,939526408,336405194,236978314,939524400,268992517,2103296,17334272,0,131072,33685504,32768,66048,0,8446914,403701760,262188,600047616];window._F_toggles = window._xjs_toggles = t;})();window._F_installCss = window._F_installCss || function(css){};(function(){google.jl={bfl:0,dw:false,ine:false,ubm:false,uwp:true,vs:false};})();(function(){var pmc=\\'{\\\\x22d\\\\x22:{}}\\';google.pmc=JSON.parse(pmc);})();</script>      </body></html>'\n",
      "Failed to fetch htp://bloq: <urlopen error unknown url type: htp>\n"
     ]
    }
   ],
   "source": [
    "import urllib.request\n",
    "\n",
    "def fetch_urls(urls):\n",
    "    for url in urls:\n",
    "        try:\n",
    "            response = urllib.request.urlopen(url)\n",
    "            print (response.read())\n",
    "        except Exception as e:\n",
    "            print(f\"Failed to fetch {url}: {e}\")\n",
    "\n",
    "fetch_urls([\"https://example.com\", \"https://www.google.com\", \"htp://bloq\"])"
   ]
  },
  {
   "cell_type": "code",
   "execution_count": 11,
   "id": "9055d77e",
   "metadata": {},
   "outputs": [
    {
     "name": "stdout",
     "output_type": "stream",
     "text": [
      "1\n",
      "Key c not found\n"
     ]
    }
   ],
   "source": [
    "def print_values(data, keys):\n",
    "    for key in keys:\n",
    "        try:\n",
    "            print(data[key])\n",
    "        except KeyError:\n",
    "            print(f\"Key {key} not found\")\n",
    "\n",
    "print_values({\"a\": 1, \"b\" : 2}, [\"a\", \"c\"])"
   ]
  },
  {
   "cell_type": "code",
   "execution_count": 12,
   "id": "fae73338",
   "metadata": {},
   "outputs": [
    {
     "name": "stdout",
     "output_type": "stream",
     "text": [
      "2023-01-01 00:00:00\n",
      "Error: not-a-date is not in the correct format\n",
      "Error: 2023-02-30 is not in the correct format\n"
     ]
    }
   ],
   "source": [
    "from datetime import datetime\n",
    "\n",
    "def parse_dates(dates):\n",
    "    for date_str in dates:\n",
    "        try:\n",
    "            parsed_date = datetime.strptime(date_str, \"%Y-%m-%d\")\n",
    "            print(parsed_date)\n",
    "        except ValueError:\n",
    "            print(f\"Error: {date_str} is not in the correct format\")\n",
    "\n",
    "\n",
    "parse_dates([\"2023-01-01\", \"not-a-date\", \"2023-02-30\"])"
   ]
  }
 ],
 "metadata": {
  "kernelspec": {
   "display_name": "Python 3",
   "language": "python",
   "name": "python3"
  },
  "language_info": {
   "codemirror_mode": {
    "name": "ipython",
    "version": 3
   },
   "file_extension": ".py",
   "mimetype": "text/x-python",
   "name": "python",
   "nbconvert_exporter": "python",
   "pygments_lexer": "ipython3",
   "version": "3.13.2"
  }
 },
 "nbformat": 4,
 "nbformat_minor": 5
}
