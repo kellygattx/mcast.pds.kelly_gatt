{
 "cells": [
  {
   "cell_type": "markdown",
   "id": "fb56f1fe",
   "metadata": {},
   "source": [
    "# Exercise File Handling\n",
    "\n",
    "1. Create a function that accepts a `filename` and `number_of_lines`. The function should do the following:\n",
    "\n",
    "   - Generate a random number from 1 to 1000 or a random word (from a pre-determined list) for `number_of_lines` times.\n",
    "   - To decided if it's a number or words use `random` and use a 50:50 ratio.\n",
    "   - You can set a pre-determined number of words; for instance a list with 5 fruits.\n",
    "   - After the number of items have been generated, store them in a file using the given `filename` making sure that every entry is on a new line.\n",
    "\n",
    "2. Use the previous function to generate a new file `file_1.txt` with 25 lines.\n",
    "\n",
    "3. Write a function that reads the content of a file (parameter) and prints every line to the console.\n",
    "\n",
    "4. Write a function that takes a filename as input and returns the number of lines in the file.\n",
    "\n",
    "5. Write a function that copies the content of a source file to a new destination file both must be passed as parameters.\n",
    "\n",
    "6. Assuming you have a file a combination of numbers and/or strings per line. Write a function that calculates the sum of the number values only.\n",
    "\n",
    "7. Write a function that takes a filename and prints a dashboard of information: number of lines, number of words, number of characters.\n",
    "\n",
    "8. Write a function that takes a filename (for this example pass `ibm_log.txt`). The function must return a dictionary with every log file category, and the number of times it appeared.\n",
    "   - Every line in the log file is as follows:\n",
    "     `03/22 08:51:01 INFO   :.main: Using log level 511`\n",
    "   - We can consider the label to be `INFO` in this case.\n",
    "   - Make sure that keys are cleaned (remove `:`) before adding them to dictionary.\n",
    "   - Finally, return a dictionary with all the keys and the number of times they appear."
   ]
  },
  {
   "cell_type": "code",
   "execution_count": 1,
   "id": "f9765aaa",
   "metadata": {},
   "outputs": [],
   "source": [
    "import random\n",
    "\n",
    "def generate_random_data(filename, num_lines):\n",
    "    data = []\n",
    "    word_list = [\"apple\", \"banana\", \"cherry\", \"pineapple\", \"kiwi\"]\n",
    "    for i in range(num_lines):\n",
    "        if random.randint(1, 2) == 1:\n",
    "            data.append(random.randint(0,100))\n",
    "        else:\n",
    "            data.append(random.choice(word_list))\n",
    "    with open(filename, \"w\") as file:\n",
    "        for item in data:\n",
    "            file.write(str(item)+\"\\n\")"
   ]
  },
  {
   "cell_type": "code",
   "execution_count": 2,
   "id": "04b5d063",
   "metadata": {},
   "outputs": [
    {
     "ename": "FileNotFoundError",
     "evalue": "[Errno 2] No such file or directory: './assets/file_1.txt'",
     "output_type": "error",
     "traceback": [
      "\u001b[31m---------------------------------------------------------------------------\u001b[39m",
      "\u001b[31mFileNotFoundError\u001b[39m                         Traceback (most recent call last)",
      "\u001b[36mCell\u001b[39m\u001b[36m \u001b[39m\u001b[32mIn[2]\u001b[39m\u001b[32m, line 1\u001b[39m\n\u001b[32m----> \u001b[39m\u001b[32m1\u001b[39m \u001b[43mgenerate_random_data\u001b[49m\u001b[43m(\u001b[49m\u001b[33;43m'\u001b[39;49m\u001b[33;43m./assets/file_1.txt\u001b[39;49m\u001b[33;43m'\u001b[39;49m\u001b[43m,\u001b[49m\u001b[43m \u001b[49m\u001b[32;43m25\u001b[39;49m\u001b[43m)\u001b[49m\n",
      "\u001b[36mCell\u001b[39m\u001b[36m \u001b[39m\u001b[32mIn[1]\u001b[39m\u001b[32m, line 11\u001b[39m, in \u001b[36mgenerate_random_data\u001b[39m\u001b[34m(filename, num_lines)\u001b[39m\n\u001b[32m      9\u001b[39m     \u001b[38;5;28;01melse\u001b[39;00m:\n\u001b[32m     10\u001b[39m         data.append(random.choice(word_list))\n\u001b[32m---> \u001b[39m\u001b[32m11\u001b[39m \u001b[38;5;28;01mwith\u001b[39;00m \u001b[38;5;28;43mopen\u001b[39;49m\u001b[43m(\u001b[49m\u001b[43mfilename\u001b[49m\u001b[43m,\u001b[49m\u001b[43m \u001b[49m\u001b[33;43m\"\u001b[39;49m\u001b[33;43mw\u001b[39;49m\u001b[33;43m\"\u001b[39;49m\u001b[43m)\u001b[49m \u001b[38;5;28;01mas\u001b[39;00m file:\n\u001b[32m     12\u001b[39m     \u001b[38;5;28;01mfor\u001b[39;00m item \u001b[38;5;129;01min\u001b[39;00m data:\n\u001b[32m     13\u001b[39m         file.write(\u001b[38;5;28mstr\u001b[39m(item)+\u001b[33m\"\u001b[39m\u001b[38;5;130;01m\\n\u001b[39;00m\u001b[33m\"\u001b[39m)\n",
      "\u001b[36mFile \u001b[39m\u001b[32m~\\AppData\\Roaming\\Python\\Python313\\site-packages\\IPython\\core\\interactiveshell.py:325\u001b[39m, in \u001b[36m_modified_open\u001b[39m\u001b[34m(file, *args, **kwargs)\u001b[39m\n\u001b[32m    318\u001b[39m \u001b[38;5;28;01mif\u001b[39;00m file \u001b[38;5;129;01min\u001b[39;00m {\u001b[32m0\u001b[39m, \u001b[32m1\u001b[39m, \u001b[32m2\u001b[39m}:\n\u001b[32m    319\u001b[39m     \u001b[38;5;28;01mraise\u001b[39;00m \u001b[38;5;167;01mValueError\u001b[39;00m(\n\u001b[32m    320\u001b[39m         \u001b[33mf\u001b[39m\u001b[33m\"\u001b[39m\u001b[33mIPython won\u001b[39m\u001b[33m'\u001b[39m\u001b[33mt let you open fd=\u001b[39m\u001b[38;5;132;01m{\u001b[39;00mfile\u001b[38;5;132;01m}\u001b[39;00m\u001b[33m by default \u001b[39m\u001b[33m\"\u001b[39m\n\u001b[32m    321\u001b[39m         \u001b[33m\"\u001b[39m\u001b[33mas it is likely to crash IPython. If you know what you are doing, \u001b[39m\u001b[33m\"\u001b[39m\n\u001b[32m    322\u001b[39m         \u001b[33m\"\u001b[39m\u001b[33myou can use builtins\u001b[39m\u001b[33m'\u001b[39m\u001b[33m open.\u001b[39m\u001b[33m\"\u001b[39m\n\u001b[32m    323\u001b[39m     )\n\u001b[32m--> \u001b[39m\u001b[32m325\u001b[39m \u001b[38;5;28;01mreturn\u001b[39;00m \u001b[43mio_open\u001b[49m\u001b[43m(\u001b[49m\u001b[43mfile\u001b[49m\u001b[43m,\u001b[49m\u001b[43m \u001b[49m\u001b[43m*\u001b[49m\u001b[43margs\u001b[49m\u001b[43m,\u001b[49m\u001b[43m \u001b[49m\u001b[43m*\u001b[49m\u001b[43m*\u001b[49m\u001b[43mkwargs\u001b[49m\u001b[43m)\u001b[49m\n",
      "\u001b[31mFileNotFoundError\u001b[39m: [Errno 2] No such file or directory: './assets/file_1.txt'"
     ]
    }
   ],
   "source": [
    "generate_random_data('./assets/file_1.txt', 25)"
   ]
  },
  {
   "cell_type": "code",
   "execution_count": 3,
   "id": "becaa8e7",
   "metadata": {},
   "outputs": [
    {
     "ename": "FileNotFoundError",
     "evalue": "[Errno 2] No such file or directory: './assets/file_1.txt'",
     "output_type": "error",
     "traceback": [
      "\u001b[31m---------------------------------------------------------------------------\u001b[39m",
      "\u001b[31mFileNotFoundError\u001b[39m                         Traceback (most recent call last)",
      "\u001b[36mCell\u001b[39m\u001b[36m \u001b[39m\u001b[32mIn[3]\u001b[39m\u001b[32m, line 6\u001b[39m\n\u001b[32m      3\u001b[39m         \u001b[38;5;28;01mfor\u001b[39;00m line \u001b[38;5;129;01min\u001b[39;00m file:\n\u001b[32m      4\u001b[39m             \u001b[38;5;28mprint\u001b[39m(line)\n\u001b[32m----> \u001b[39m\u001b[32m6\u001b[39m \u001b[43mread_file\u001b[49m\u001b[43m(\u001b[49m\u001b[33;43m'\u001b[39;49m\u001b[33;43m./assets/file_1.txt\u001b[39;49m\u001b[33;43m'\u001b[39;49m\u001b[43m)\u001b[49m\n",
      "\u001b[36mCell\u001b[39m\u001b[36m \u001b[39m\u001b[32mIn[3]\u001b[39m\u001b[32m, line 2\u001b[39m, in \u001b[36mread_file\u001b[39m\u001b[34m(filename)\u001b[39m\n\u001b[32m      1\u001b[39m \u001b[38;5;28;01mdef\u001b[39;00m\u001b[38;5;250m \u001b[39m\u001b[34mread_file\u001b[39m(filename):\n\u001b[32m----> \u001b[39m\u001b[32m2\u001b[39m     \u001b[38;5;28;01mwith\u001b[39;00m \u001b[38;5;28;43mopen\u001b[39;49m\u001b[43m(\u001b[49m\u001b[43mfilename\u001b[49m\u001b[43m,\u001b[49m\u001b[43m \u001b[49m\u001b[33;43m'\u001b[39;49m\u001b[33;43mr\u001b[39;49m\u001b[33;43m'\u001b[39;49m\u001b[43m)\u001b[49m \u001b[38;5;28;01mas\u001b[39;00m file:\n\u001b[32m      3\u001b[39m         \u001b[38;5;28;01mfor\u001b[39;00m line \u001b[38;5;129;01min\u001b[39;00m file:\n\u001b[32m      4\u001b[39m             \u001b[38;5;28mprint\u001b[39m(line)\n",
      "\u001b[36mFile \u001b[39m\u001b[32m~\\AppData\\Roaming\\Python\\Python313\\site-packages\\IPython\\core\\interactiveshell.py:325\u001b[39m, in \u001b[36m_modified_open\u001b[39m\u001b[34m(file, *args, **kwargs)\u001b[39m\n\u001b[32m    318\u001b[39m \u001b[38;5;28;01mif\u001b[39;00m file \u001b[38;5;129;01min\u001b[39;00m {\u001b[32m0\u001b[39m, \u001b[32m1\u001b[39m, \u001b[32m2\u001b[39m}:\n\u001b[32m    319\u001b[39m     \u001b[38;5;28;01mraise\u001b[39;00m \u001b[38;5;167;01mValueError\u001b[39;00m(\n\u001b[32m    320\u001b[39m         \u001b[33mf\u001b[39m\u001b[33m\"\u001b[39m\u001b[33mIPython won\u001b[39m\u001b[33m'\u001b[39m\u001b[33mt let you open fd=\u001b[39m\u001b[38;5;132;01m{\u001b[39;00mfile\u001b[38;5;132;01m}\u001b[39;00m\u001b[33m by default \u001b[39m\u001b[33m\"\u001b[39m\n\u001b[32m    321\u001b[39m         \u001b[33m\"\u001b[39m\u001b[33mas it is likely to crash IPython. If you know what you are doing, \u001b[39m\u001b[33m\"\u001b[39m\n\u001b[32m    322\u001b[39m         \u001b[33m\"\u001b[39m\u001b[33myou can use builtins\u001b[39m\u001b[33m'\u001b[39m\u001b[33m open.\u001b[39m\u001b[33m\"\u001b[39m\n\u001b[32m    323\u001b[39m     )\n\u001b[32m--> \u001b[39m\u001b[32m325\u001b[39m \u001b[38;5;28;01mreturn\u001b[39;00m \u001b[43mio_open\u001b[49m\u001b[43m(\u001b[49m\u001b[43mfile\u001b[49m\u001b[43m,\u001b[49m\u001b[43m \u001b[49m\u001b[43m*\u001b[49m\u001b[43margs\u001b[49m\u001b[43m,\u001b[49m\u001b[43m \u001b[49m\u001b[43m*\u001b[49m\u001b[43m*\u001b[49m\u001b[43mkwargs\u001b[49m\u001b[43m)\u001b[49m\n",
      "\u001b[31mFileNotFoundError\u001b[39m: [Errno 2] No such file or directory: './assets/file_1.txt'"
     ]
    }
   ],
   "source": [
    "def read_file(filename):\n",
    "    with open(filename, 'r') as file:\n",
    "        for line in file:\n",
    "            print(line)\n",
    "\n",
    "read_file('./assets/file_1.txt')\n"
   ]
  },
  {
   "cell_type": "code",
   "execution_count": null,
   "id": "1524e7d9",
   "metadata": {},
   "outputs": [],
   "source": [
    "def count_file_lines(filename):\n",
    "    with open(filename, 'r') as file:\n",
    "        lines = 0\n",
    "        for line in file:\n",
    "            lines+=1\n",
    "    return lines\n",
    "\n",
    "count_file_lines('./assets/file_1.txt')"
   ]
  },
  {
   "cell_type": "code",
   "execution_count": null,
   "id": "95e99191",
   "metadata": {},
   "outputs": [],
   "source": [
    "def copy_file(source, destination):\n",
    "    with open(source, 'r') as src, open(destination, \"w\") as dest:\n",
    "        dest.write(src.read())\n",
    "\n",
    "copy_file(\"./assets/file_1.txt\", \"./assets/file_1_copy.txt\")"
   ]
  },
  {
   "cell_type": "code",
   "execution_count": null,
   "id": "144f8c4c",
   "metadata": {},
   "outputs": [],
   "source": [
    "def calculate_sum(filename):\n",
    "    with open(filename, \"r\") as file:\n",
    "        total = 0\n",
    "        for line in file:\n",
    "            try:\n",
    "                total += int(line)\n",
    "            except:\n",
    "                continue\n",
    "    return total\n",
    "\n",
    "print(calculate_sum(\"./assets/file_1.txt\"))"
   ]
  },
  {
   "cell_type": "code",
   "execution_count": null,
   "id": "e05f9215",
   "metadata": {},
   "outputs": [],
   "source": [
    "def file_stats(filename):\n",
    "    with open(filename, \"r\") as file:\n",
    "        lines = file.readlines()\n",
    "        words = 0\n",
    "        characters = 0\n",
    "        for line in lines:\n",
    "            split_words = line.split()\n",
    "            words += len(split_words)\n",
    "            for word in split_words:\n",
    "                characters += len(word)\n",
    "    return len(lines), words, characters\n",
    "\n",
    "print(file_stats(\"./assets/great.txt\"))"
   ]
  },
  {
   "cell_type": "code",
   "execution_count": null,
   "id": "9a72b6c3",
   "metadata": {},
   "outputs": [],
   "source": [
    "def process_log_file(filename):\n",
    "    with open(filename, \"r\") as file:\n",
    "        counts = {}\n",
    "        for line in file:\n",
    "            split_line = line.split()\n",
    "            try:\n",
    "                key = split_line[2].replace(\":\",\"\")\n",
    "                if key not in counts:\n",
    "                    counts[key]=1\n",
    "                else:\n",
    "                    counts[key]+=1\n",
    "            except:\n",
    "                continue\n",
    "        return counts\n",
    "\n",
    "process_log_file(\"./assets/ibm_log.txt\")"
   ]
  }
 ],
 "metadata": {
  "kernelspec": {
   "display_name": "Python 3",
   "language": "python",
   "name": "python3"
  },
  "language_info": {
   "codemirror_mode": {
    "name": "ipython",
    "version": 3
   },
   "file_extension": ".py",
   "mimetype": "text/x-python",
   "name": "python",
   "nbconvert_exporter": "python",
   "pygments_lexer": "ipython3",
   "version": "3.13.2"
  }
 },
 "nbformat": 4,
 "nbformat_minor": 5
}
