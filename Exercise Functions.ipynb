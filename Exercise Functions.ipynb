{
 "cells": [
  {
   "cell_type": "markdown",
   "id": "b9dc29e4",
   "metadata": {},
   "source": [
    "### Exercise Functions\n",
    "\n",
    "#### Part 1\n",
    "\n",
    "1. Write a function to calculate the area of a rectangle. Return the area.\n",
    "2. Create a function that returns the maximum of 3 numbers. Do not use max function.\n",
    "3. Create a fuction that checks if a number is prime or not. It needs to return True or False.\n",
    "4. Write a function to return the reversed value of a string."
   ]
  },
  {
   "cell_type": "code",
   "execution_count": 2,
   "id": "dace6cd8",
   "metadata": {},
   "outputs": [
    {
     "name": "stdout",
     "output_type": "stream",
     "text": [
      "80\n"
     ]
    }
   ],
   "source": [
    "def calculate_area(length, width):\n",
    "    return (length*width)\n",
    "\n",
    "print(calculate_area(10,8))"
   ]
  },
  {
   "cell_type": "code",
   "execution_count": 4,
   "id": "de41ef79",
   "metadata": {},
   "outputs": [
    {
     "name": "stdout",
     "output_type": "stream",
     "text": [
      "6\n"
     ]
    }
   ],
   "source": [
    "def get_max_number(n1, n2, n3):\n",
    "    max = n1\n",
    "    if n2>max:\n",
    "        max = n2\n",
    "    if n3>max:\n",
    "        max = n3\n",
    "    return max\n",
    "    \n",
    "print(get_max_number(2,4,6))"
   ]
  },
  {
   "cell_type": "code",
   "execution_count": 6,
   "id": "55536947",
   "metadata": {},
   "outputs": [
    {
     "name": "stdout",
     "output_type": "stream",
     "text": [
      "False\n",
      "True\n",
      "False\n",
      "False\n"
     ]
    }
   ],
   "source": [
    "def is_prime(num):\n",
    "    if num <=1 :\n",
    "        return False\n",
    "    for i in range(2, int(num*0.5) + 1):\n",
    "        if num % i == 0:\n",
    "            return False \n",
    "    return True\n",
    "\n",
    "print(is_prime(10))\n",
    "print(is_prime(3))\n",
    "print(is_prime(55))\n",
    "print(is_prime(121))"
   ]
  },
  {
   "cell_type": "code",
   "execution_count": 8,
   "id": "822678ed",
   "metadata": {},
   "outputs": [
    {
     "name": "stdout",
     "output_type": "stream",
     "text": [
      "nohtyP\n"
     ]
    }
   ],
   "source": [
    "def reverse_string(str):\n",
    "    return str[::-1]\n",
    "\n",
    "print (reverse_string('Python'))"
   ]
  },
  {
   "cell_type": "markdown",
   "id": "5e83d1b2",
   "metadata": {},
   "source": [
    "#### Part 2\n",
    "5. Create a function that accepts a list of numbers and returns their sum. If an empty list is passed, it must return 0. Do not use sum function.\n",
    "6. Write a function that accepts a dictionary, and prints each key-value pair in the format \"key:value\" on separate lines.\n",
    "7. Create a function that counts the number of upper case and lower case letters in a string. The function should return a tuple containing the counts (upper_case_count, lower_case_count).\n",
    "8. Create a function that checks if a given word is a palindrome or not. A palindrome reads the same backwards as forward, e.g. 'radar'."
   ]
  },
  {
   "cell_type": "code",
   "execution_count": 9,
   "id": "42779cec",
   "metadata": {},
   "outputs": [
    {
     "name": "stdout",
     "output_type": "stream",
     "text": [
      "50\n",
      "0\n"
     ]
    }
   ],
   "source": [
    "def sum_numbers(nums):\n",
    "    total = 0\n",
    "    for num in nums:\n",
    "        total+=num\n",
    "    return total\n",
    "\n",
    "print(sum_numbers([5,10,15,20]))\n",
    "print(sum_numbers([]))"
   ]
  },
  {
   "cell_type": "code",
   "execution_count": 11,
   "id": "a800567f",
   "metadata": {},
   "outputs": [
    {
     "name": "stdout",
     "output_type": "stream",
     "text": [
      "Python:1\n",
      "Java:2\n",
      "C#:3\n"
     ]
    }
   ],
   "source": [
    "def print_dictionary(dict):\n",
    "    for key, item in dict.items():\n",
    "        print (f\"{key}:{item}\")\n",
    "\n",
    "dict = {\"Python\" : 1, \"Java\" : 2, \"C#\" : 3}\n",
    "print_dictionary(dict)"
   ]
  },
  {
   "cell_type": "code",
   "execution_count": 13,
   "id": "578d31fc",
   "metadata": {},
   "outputs": [
    {
     "name": "stdout",
     "output_type": "stream",
     "text": [
      "{'upper_case_count': 2, 'lower_case_count': 15}\n"
     ]
    }
   ],
   "source": [
    "def count_cases(str):\n",
    "    upper_case_count, lower_case_count = 0, 0\n",
    "    for i in str:\n",
    "        if i.isupper():\n",
    "            upper_case_count+=1\n",
    "        elif i.islower():\n",
    "            lower_case_count+=1\n",
    "    return {\"upper_case_count\": upper_case_count, \"lower_case_count\": lower_case_count}\n",
    "\n",
    "print(count_cases(\"I am studying Python\"))"
   ]
  },
  {
   "cell_type": "code",
   "execution_count": 14,
   "id": "fea6a96c",
   "metadata": {},
   "outputs": [
    {
     "name": "stdout",
     "output_type": "stream",
     "text": [
      "True\n",
      "False\n"
     ]
    }
   ],
   "source": [
    "def is_palindrome(word):\n",
    "    return word == word[::-1]\n",
    "\n",
    "print (is_palindrome('radar'))\n",
    "print (is_palindrome('language'))"
   ]
  },
  {
   "cell_type": "markdown",
   "id": "649b3171",
   "metadata": {},
   "source": [
    "#### Part 3\n",
    "\n",
    "9. Write a function that accepts a list of numbers and returns a new list without duplicates.\n",
    "10. Write a function to convert a number to its string representation. For example 1 becomes 1st, 2 becomes 2nd... Limit up to 20.\n",
    "11. Create a function that takes a list of strings, and returns a dictionary with strings as keys, and their length as values."
   ]
  },
  {
   "cell_type": "code",
   "execution_count": 15,
   "id": "ff7ade18",
   "metadata": {},
   "outputs": [
    {
     "name": "stdout",
     "output_type": "stream",
     "text": [
      "[1, 10, 3, 7]\n"
     ]
    }
   ],
   "source": [
    "def remove_duplicates(nums):\n",
    "    return list(set(nums))\n",
    "\n",
    "print (remove_duplicates([1, 1, 3, 7, 7, 10]))"
   ]
  },
  {
   "cell_type": "code",
   "execution_count": 16,
   "id": "fd2766ae",
   "metadata": {},
   "outputs": [
    {
     "name": "stdout",
     "output_type": "stream",
     "text": [
      "1st\n",
      "12th\n",
      "2nd\n"
     ]
    }
   ],
   "source": [
    "def number_to_ordinal(num):\n",
    "    if num >=10 and num <= 20:\n",
    "        suffix = \"th\"\n",
    "    else:\n",
    "        suffix = {1: \"st\", 2: \"nd\", 3: \"rd\"}.get(num%10, 'th')\n",
    "    return str(num)+suffix \n",
    "\n",
    "print(number_to_ordinal(1))\n",
    "print(number_to_ordinal(12))\n",
    "print(number_to_ordinal(2))"
   ]
  },
  {
   "cell_type": "code",
   "execution_count": 17,
   "id": "f5992504",
   "metadata": {},
   "outputs": [
    {
     "name": "stdout",
     "output_type": "stream",
     "text": [
      "{'phone': 5, 'laptop': 6, 'watch': 5}\n"
     ]
    }
   ],
   "source": [
    "def generate_length(strs):\n",
    "    dict = {}\n",
    "    for str in strs:\n",
    "        dict[str] = len(str)\n",
    "    return dict\n",
    "\n",
    "print (generate_length([\"phone\", \"laptop\", \"watch\"]))\n",
    "\n",
    "# alternatively\n",
    "def generate_length(strs):\n",
    "    return {s: len(s) for s in strs}"
   ]
  },
  {
   "cell_type": "markdown",
   "id": "596f835b",
   "metadata": {},
   "source": [
    "#### Lambda Functions\n",
    "\n",
    "12. Using a Lambda function, create a small script to sort a list of tuples by the second item. For example, given [(2, 5), (1, 2), (4, 4), (2, 3), (2, 1)], it should return [(2, 1), (1, 2), (2, 3), (4, 4), (2, 5)]. You can use sorted function, and use the lambda function in the key part of sorted.\n",
    "13. Write a Lambda function, to filter even numbers from a list. You can make use of filter function, and pass a lambda function as its first parameter."
   ]
  },
  {
   "cell_type": "code",
   "execution_count": 18,
   "id": "425f7cfb",
   "metadata": {},
   "outputs": [
    {
     "name": "stdout",
     "output_type": "stream",
     "text": [
      "[(2, 1), (1, 2), (2, 3), (4, 4), (2, 5)]\n"
     ]
    }
   ],
   "source": [
    "tuples =  [(2, 5), (1, 2), (4, 4), (2, 3), (2, 1)]\n",
    "sorted_tuples = sorted(tuples, key=lambda x:x[1])\n",
    "print(sorted_tuples)"
   ]
  },
  {
   "cell_type": "code",
   "execution_count": 19,
   "id": "50a3f8d4",
   "metadata": {},
   "outputs": [
    {
     "name": "stdout",
     "output_type": "stream",
     "text": [
      "[2, 4, 6, 8, 10]\n"
     ]
    }
   ],
   "source": [
    "numbers = list(range(1,12))\n",
    "even_numbers = list(filter(lambda x: x % 2 ==0, numbers))\n",
    "print(even_numbers)"
   ]
  }
 ],
 "metadata": {
  "kernelspec": {
   "display_name": "Python 3",
   "language": "python",
   "name": "python3"
  },
  "language_info": {
   "codemirror_mode": {
    "name": "ipython",
    "version": 3
   },
   "file_extension": ".py",
   "mimetype": "text/x-python",
   "name": "python",
   "nbconvert_exporter": "python",
   "pygments_lexer": "ipython3",
   "version": "3.13.2"
  }
 },
 "nbformat": 4,
 "nbformat_minor": 5
}
