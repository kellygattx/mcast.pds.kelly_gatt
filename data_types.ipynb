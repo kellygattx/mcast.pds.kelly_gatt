{
 "cells": [
  {
   "cell_type": "markdown",
   "metadata": {},
   "source": [
    "# Exercise 01 - Data Types\n",
    "\n",
    "1. Create the following variables.\n",
    "* length which contains 56\n",
    "* width which contains 34.56\n",
    "* shape which contains rectangle\n",
    "\n",
    "2. Print their type.\n",
    "3. Calculate the area of the rectangle, and store it in a variable area.\n",
    "4. Calculate the perimiter of the rectangle, and store in a variable perimiter.\n",
    "5. Print the area and the perimiter.\n",
    "6. Re-calculate the area but this time, make sure to convert the width into int before multiplying. Store the result in area_int.\n",
    "7. Check if the type of area and area_int are the same.\n",
    "8. Create a variable msg that contains The area of the rectangle is 1904cm2. Make sure that for the word rectangle and 1904 you use the appropriate variables. Use the join function.\n",
    "9. Print msg.\n",
    "10. Use msg to extract cm, and display a message The unit of measurment is cm."
   ]
  },
  {
   "cell_type": "code",
   "execution_count": 1,
   "metadata": {},
   "outputs": [],
   "source": [
    "length = 56\n",
    "width = 34.56\n",
    "shape = 'rectangle'"
   ]
  },
  {
   "cell_type": "code",
   "execution_count": 2,
   "metadata": {},
   "outputs": [
    {
     "name": "stdout",
     "output_type": "stream",
     "text": [
      "<class 'int'>\n",
      "<class 'float'>\n",
      "<class 'str'>\n"
     ]
    }
   ],
   "source": [
    "print(type(length))\n",
    "print(type(width))\n",
    "print(type(shape))"
   ]
  },
  {
   "cell_type": "code",
   "execution_count": 5,
   "metadata": {},
   "outputs": [
    {
     "name": "stdout",
     "output_type": "stream",
     "text": [
      "1935.3600000000001\n"
     ]
    }
   ],
   "source": [
    "area = length * width\n",
    "print (area)"
   ]
  },
  {
   "cell_type": "code",
   "execution_count": 6,
   "metadata": {},
   "outputs": [
    {
     "name": "stdout",
     "output_type": "stream",
     "text": [
      "181.12\n"
     ]
    }
   ],
   "source": [
    "perimiter = (length+width)*2\n",
    "print (perimiter)"
   ]
  },
  {
   "cell_type": "code",
   "execution_count": 9,
   "metadata": {},
   "outputs": [
    {
     "name": "stdout",
     "output_type": "stream",
     "text": [
      "1904\n"
     ]
    }
   ],
   "source": [
    "area_int = length * int(width)\n",
    "print(area_int)"
   ]
  },
  {
   "cell_type": "code",
   "execution_count": 10,
   "metadata": {},
   "outputs": [
    {
     "name": "stdout",
     "output_type": "stream",
     "text": [
      "False\n"
     ]
    }
   ],
   "source": [
    "print (type(area)==type(area_int))"
   ]
  },
  {
   "cell_type": "code",
   "execution_count": 11,
   "metadata": {},
   "outputs": [
    {
     "name": "stdout",
     "output_type": "stream",
     "text": [
      "The area of the rectangle is 1904cm2\n"
     ]
    }
   ],
   "source": [
    "msg = \"\".join(['The area of the ', shape, ' is ', str(area_int), 'cm2'])\n",
    "print(msg)"
   ]
  },
  {
   "cell_type": "code",
   "execution_count": 12,
   "metadata": {},
   "outputs": [
    {
     "name": "stdout",
     "output_type": "stream",
     "text": [
      "The unit of measurement is cm\n"
     ]
    }
   ],
   "source": [
    "print ('The unit of measurement is ' + msg[-3:-1])"
   ]
  }
 ],
 "metadata": {
  "kernelspec": {
   "display_name": "Python 3",
   "language": "python",
   "name": "python3"
  },
  "language_info": {
   "codemirror_mode": {
    "name": "ipython",
    "version": 3
   },
   "file_extension": ".py",
   "mimetype": "text/x-python",
   "name": "python",
   "nbconvert_exporter": "python",
   "pygments_lexer": "ipython3",
   "version": "3.13.2"
  }
 },
 "nbformat": 4,
 "nbformat_minor": 2
}
